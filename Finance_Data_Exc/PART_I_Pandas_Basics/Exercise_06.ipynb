{
 "cells": [
  {
   "cell_type": "markdown",
   "metadata": {},
   "source": [
    "# Coding Exercises (Part 6)"
   ]
  },
  {
   "cell_type": "markdown",
   "metadata": {},
   "source": [
    "Now, you will have the opportunity to analyze your own dataset. <br>\n",
    "__Follow the instructions__ and insert your code! You are either requested to \n",
    "- Complete the Code and __Fill in the gaps__. Gaps are marked with \"__---__\" and are __placeholders__ for your code fragment. \n",
    "- Write Code completely __on your own__ "
   ]
  },
  {
   "cell_type": "markdown",
   "metadata": {},
   "source": [
    "In some exercises, you will find questions that can only be answered, if your code is correct and returns the right output! The correct answer is provided below your coding cell. There you can check whether your code is correct."
   ]
  },
  {
   "cell_type": "markdown",
   "metadata": {},
   "source": [
    "If you need a hint, check the __Hints Section__ at the end of this Notebook. Exercises and Hints are numerated accordingly."
   ]
  },
  {
   "cell_type": "markdown",
   "metadata": {},
   "source": [
    "If you need some further help or if you want to check your code, you can also watch the __solutions videos__ or check the __solutions notebook__."
   ]
  },
  {
   "cell_type": "markdown",
   "metadata": {},
   "source": [
    "### Have Fun!"
   ]
  },
  {
   "cell_type": "markdown",
   "metadata": {},
   "source": [
    "--------------------------------------------------------------------------------------------------------------"
   ]
  },
  {
   "cell_type": "markdown",
   "metadata": {},
   "source": [
    "## Pandas: Intermediate"
   ]
  },
  {
   "cell_type": "markdown",
   "metadata": {},
   "source": [
    "### Exercise 6: NA Values & Summary Statistics"
   ]
  },
  {
   "cell_type": "code",
   "execution_count": 1,
   "metadata": {},
   "outputs": [],
   "source": [
    "# run the cell!\n",
    "import pandas as pd\n",
    "pd.options.display.float_format = '{:.2f}'.format"
   ]
  },
  {
   "cell_type": "code",
   "execution_count": 2,
   "metadata": {},
   "outputs": [],
   "source": [
    "# run the cell!\n",
    "listings = pd.read_csv(\"listings.csv\")"
   ]
  },
  {
   "cell_type": "code",
   "execution_count": 3,
   "metadata": {},
   "outputs": [
    {
     "data": {
      "text/html": [
       "<div>\n",
       "<style scoped>\n",
       "    .dataframe tbody tr th:only-of-type {\n",
       "        vertical-align: middle;\n",
       "    }\n",
       "\n",
       "    .dataframe tbody tr th {\n",
       "        vertical-align: top;\n",
       "    }\n",
       "\n",
       "    .dataframe thead th {\n",
       "        text-align: right;\n",
       "    }\n",
       "</style>\n",
       "<table border=\"1\" class=\"dataframe\">\n",
       "  <thead>\n",
       "    <tr style=\"text-align: right;\">\n",
       "      <th></th>\n",
       "      <th>Symbol</th>\n",
       "      <th>Exchange</th>\n",
       "      <th>Name</th>\n",
       "      <th>Last_Price</th>\n",
       "      <th>Market_Cap</th>\n",
       "      <th>ADR TSO</th>\n",
       "      <th>IPO_Year</th>\n",
       "      <th>Sector</th>\n",
       "      <th>Industry</th>\n",
       "    </tr>\n",
       "  </thead>\n",
       "  <tbody>\n",
       "    <tr>\n",
       "      <th>0</th>\n",
       "      <td>A</td>\n",
       "      <td>NYSE</td>\n",
       "      <td>Agilent Technologies, Inc.</td>\n",
       "      <td>81.68</td>\n",
       "      <td>25934696179.92</td>\n",
       "      <td>nan</td>\n",
       "      <td>1999.00</td>\n",
       "      <td>Capital Goods</td>\n",
       "      <td>Biotechnology: Laboratory Analytical Instruments</td>\n",
       "    </tr>\n",
       "    <tr>\n",
       "      <th>1</th>\n",
       "      <td>AA</td>\n",
       "      <td>NYSE</td>\n",
       "      <td>Alcoa Corporation</td>\n",
       "      <td>29.15</td>\n",
       "      <td>5407809589.60</td>\n",
       "      <td>nan</td>\n",
       "      <td>2016.00</td>\n",
       "      <td>Basic Industries</td>\n",
       "      <td>Aluminum</td>\n",
       "    </tr>\n",
       "    <tr>\n",
       "      <th>2</th>\n",
       "      <td>AABA</td>\n",
       "      <td>NASDAQ</td>\n",
       "      <td>Altaba Inc.</td>\n",
       "      <td>75.39</td>\n",
       "      <td>42781131315.30</td>\n",
       "      <td>nan</td>\n",
       "      <td>nan</td>\n",
       "      <td>Technology</td>\n",
       "      <td>EDP Services</td>\n",
       "    </tr>\n",
       "    <tr>\n",
       "      <th>3</th>\n",
       "      <td>AAC</td>\n",
       "      <td>NYSE</td>\n",
       "      <td>AAC Holdings, Inc.</td>\n",
       "      <td>2.16</td>\n",
       "      <td>53141086.80</td>\n",
       "      <td>nan</td>\n",
       "      <td>2014.00</td>\n",
       "      <td>Health Care</td>\n",
       "      <td>Medical Specialities</td>\n",
       "    </tr>\n",
       "    <tr>\n",
       "      <th>4</th>\n",
       "      <td>AAL</td>\n",
       "      <td>NASDAQ</td>\n",
       "      <td>American Airlines Group, Inc.</td>\n",
       "      <td>34.02</td>\n",
       "      <td>15276869742.96</td>\n",
       "      <td>nan</td>\n",
       "      <td>nan</td>\n",
       "      <td>Transportation</td>\n",
       "      <td>Air Freight/Delivery Services</td>\n",
       "    </tr>\n",
       "  </tbody>\n",
       "</table>\n",
       "</div>"
      ],
      "text/plain": [
       "  Symbol Exchange                           Name  Last_Price     Market_Cap  \\\n",
       "0      A     NYSE     Agilent Technologies, Inc.       81.68 25934696179.92   \n",
       "1     AA     NYSE              Alcoa Corporation       29.15  5407809589.60   \n",
       "2   AABA   NASDAQ                    Altaba Inc.       75.39 42781131315.30   \n",
       "3    AAC     NYSE             AAC Holdings, Inc.        2.16    53141086.80   \n",
       "4    AAL   NASDAQ  American Airlines Group, Inc.       34.02 15276869742.96   \n",
       "\n",
       "   ADR TSO  IPO_Year            Sector  \\\n",
       "0      nan   1999.00     Capital Goods   \n",
       "1      nan   2016.00  Basic Industries   \n",
       "2      nan       nan        Technology   \n",
       "3      nan   2014.00       Health Care   \n",
       "4      nan       nan    Transportation   \n",
       "\n",
       "                                           Industry  \n",
       "0  Biotechnology: Laboratory Analytical Instruments  \n",
       "1                                          Aluminum  \n",
       "2                                      EDP Services  \n",
       "3                              Medical Specialities  \n",
       "4                     Air Freight/Delivery Services  "
      ]
     },
     "execution_count": 3,
     "metadata": {},
     "output_type": "execute_result"
    }
   ],
   "source": [
    "# run the cell!\n",
    "listings.head()"
   ]
  },
  {
   "cell_type": "code",
   "execution_count": 4,
   "metadata": {},
   "outputs": [
    {
     "name": "stdout",
     "output_type": "stream",
     "text": [
      "<class 'pandas.core.frame.DataFrame'>\n",
      "RangeIndex: 6852 entries, 0 to 6851\n",
      "Data columns (total 9 columns):\n",
      " #   Column      Non-Null Count  Dtype  \n",
      "---  ------      --------------  -----  \n",
      " 0   Symbol      6852 non-null   object \n",
      " 1   Exchange    6852 non-null   object \n",
      " 2   Name        6852 non-null   object \n",
      " 3   Last_Price  6745 non-null   float64\n",
      " 4   Market_Cap  5954 non-null   float64\n",
      " 5   ADR TSO     140 non-null    float64\n",
      " 6   IPO_Year    3105 non-null   float64\n",
      " 7   Sector      5309 non-null   object \n",
      " 8   Industry    5309 non-null   object \n",
      "dtypes: float64(4), object(5)\n",
      "memory usage: 481.9+ KB\n"
     ]
    }
   ],
   "source": [
    "# run the cell\n",
    "listings.info()"
   ]
  },
  {
   "cell_type": "markdown",
   "metadata": {},
   "source": [
    "51. Get the __amount__ of __NA-values__ per __column__! __Fill in the gaps__! <br> How many __NA-values__ are in the __ADR TSO__ column?"
   ]
  },
  {
   "cell_type": "code",
   "execution_count": 13,
   "metadata": {},
   "outputs": [
    {
     "data": {
      "text/plain": [
       "Symbol           0\n",
       "Exchange         0\n",
       "Name             0\n",
       "Last_Price     107\n",
       "Market_Cap     898\n",
       "ADR TSO       6712\n",
       "IPO_Year      3747\n",
       "Sector        1543\n",
       "Industry      1543\n",
       "dtype: int64"
      ]
     },
     "execution_count": 13,
     "metadata": {},
     "output_type": "execute_result"
    }
   ],
   "source": [
    "listings.isna().sum(axis = 0)"
   ]
  },
  {
   "cell_type": "markdown",
   "metadata": {},
   "source": [
    "There are ... 6712 NA-values in the ADR TSO column!"
   ]
  },
  {
   "cell_type": "markdown",
   "metadata": {},
   "source": [
    "52. Get the __amount__ of __non-null values__ per column (don´t use info() method)! <br>"
   ]
  },
  {
   "cell_type": "code",
   "execution_count": 15,
   "metadata": {},
   "outputs": [
    {
     "data": {
      "text/plain": [
       "Symbol           0\n",
       "Exchange         0\n",
       "Name             0\n",
       "Last_Price     107\n",
       "Market_Cap     898\n",
       "ADR TSO       6712\n",
       "IPO_Year      3747\n",
       "Sector        1543\n",
       "Industry      1543\n",
       "dtype: int64"
      ]
     },
     "execution_count": 15,
     "metadata": {},
     "output_type": "execute_result"
    }
   ],
   "source": [
    "listings.isna().sum()"
   ]
  },
  {
   "cell_type": "markdown",
   "metadata": {},
   "source": [
    "53. __Drop__ all __rows__ with __at least one NA-Value__ from listings (don´t overwrite listings!). __How many__ rows/listing are __left__?"
   ]
  },
  {
   "cell_type": "code",
   "execution_count": 16,
   "metadata": {},
   "outputs": [
    {
     "data": {
      "text/html": [
       "<div>\n",
       "<style scoped>\n",
       "    .dataframe tbody tr th:only-of-type {\n",
       "        vertical-align: middle;\n",
       "    }\n",
       "\n",
       "    .dataframe tbody tr th {\n",
       "        vertical-align: top;\n",
       "    }\n",
       "\n",
       "    .dataframe thead th {\n",
       "        text-align: right;\n",
       "    }\n",
       "</style>\n",
       "<table border=\"1\" class=\"dataframe\">\n",
       "  <thead>\n",
       "    <tr style=\"text-align: right;\">\n",
       "      <th></th>\n",
       "      <th>Symbol</th>\n",
       "      <th>Exchange</th>\n",
       "      <th>Name</th>\n",
       "      <th>Last_Price</th>\n",
       "      <th>Market_Cap</th>\n",
       "      <th>ADR TSO</th>\n",
       "      <th>IPO_Year</th>\n",
       "      <th>Sector</th>\n",
       "      <th>Industry</th>\n",
       "    </tr>\n",
       "  </thead>\n",
       "  <tbody>\n",
       "    <tr>\n",
       "      <th>75</th>\n",
       "      <td>ADAP</td>\n",
       "      <td>NASDAQ</td>\n",
       "      <td>Adaptimmune Therapeutics plc</td>\n",
       "      <td>4.56</td>\n",
       "      <td>366034829.76</td>\n",
       "      <td>80270796.00</td>\n",
       "      <td>2015.00</td>\n",
       "      <td>Health Care</td>\n",
       "      <td>Biotechnology: Biological Products (No Diagnos...</td>\n",
       "    </tr>\n",
       "    <tr>\n",
       "      <th>305</th>\n",
       "      <td>AMCN</td>\n",
       "      <td>NASDAQ</td>\n",
       "      <td>AirMedia Group Inc.</td>\n",
       "      <td>0.47</td>\n",
       "      <td>4245804.95</td>\n",
       "      <td>9035550.00</td>\n",
       "      <td>2007.00</td>\n",
       "      <td>Technology</td>\n",
       "      <td>Advertising</td>\n",
       "    </tr>\n",
       "    <tr>\n",
       "      <th>354</th>\n",
       "      <td>ANCN</td>\n",
       "      <td>NASDAQ</td>\n",
       "      <td>Anchiano Therapeutics Ltd.</td>\n",
       "      <td>6.67</td>\n",
       "      <td>17690000.58</td>\n",
       "      <td>2652174.00</td>\n",
       "      <td>2019.00</td>\n",
       "      <td>Health Care</td>\n",
       "      <td>Major Pharmaceuticals</td>\n",
       "    </tr>\n",
       "    <tr>\n",
       "      <th>398</th>\n",
       "      <td>APOP</td>\n",
       "      <td>NASDAQ</td>\n",
       "      <td>Cellect Biotechnology Ltd.</td>\n",
       "      <td>0.99</td>\n",
       "      <td>6432765.64</td>\n",
       "      <td>6468992.00</td>\n",
       "      <td>2016.00</td>\n",
       "      <td>Health Care</td>\n",
       "      <td>Medical/Dental Instruments</td>\n",
       "    </tr>\n",
       "    <tr>\n",
       "      <th>449</th>\n",
       "      <td>ARGX</td>\n",
       "      <td>NASDAQ</td>\n",
       "      <td>argenx SE</td>\n",
       "      <td>127.51</td>\n",
       "      <td>2656424245.66</td>\n",
       "      <td>20833066.00</td>\n",
       "      <td>2017.00</td>\n",
       "      <td>Health Care</td>\n",
       "      <td>Biotechnology: Biological Products (No Diagnos...</td>\n",
       "    </tr>\n",
       "    <tr>\n",
       "      <th>...</th>\n",
       "      <td>...</td>\n",
       "      <td>...</td>\n",
       "      <td>...</td>\n",
       "      <td>...</td>\n",
       "      <td>...</td>\n",
       "      <td>...</td>\n",
       "      <td>...</td>\n",
       "      <td>...</td>\n",
       "      <td>...</td>\n",
       "    </tr>\n",
       "    <tr>\n",
       "      <th>6792</th>\n",
       "      <td>YI</td>\n",
       "      <td>NASDAQ</td>\n",
       "      <td>111, Inc.</td>\n",
       "      <td>7.10</td>\n",
       "      <td>56690340.50</td>\n",
       "      <td>7984555.00</td>\n",
       "      <td>2018.00</td>\n",
       "      <td>Health Care</td>\n",
       "      <td>Medical/Nursing Services</td>\n",
       "    </tr>\n",
       "    <tr>\n",
       "      <th>6793</th>\n",
       "      <td>YIN</td>\n",
       "      <td>NASDAQ</td>\n",
       "      <td>Yintech Investment Holdings Limited</td>\n",
       "      <td>6.05</td>\n",
       "      <td>97220323.75</td>\n",
       "      <td>16069475.00</td>\n",
       "      <td>2016.00</td>\n",
       "      <td>Finance</td>\n",
       "      <td>Investment Bankers/Brokers/Service</td>\n",
       "    </tr>\n",
       "    <tr>\n",
       "      <th>6810</th>\n",
       "      <td>YY</td>\n",
       "      <td>NASDAQ</td>\n",
       "      <td>YY Inc.</td>\n",
       "      <td>85.55</td>\n",
       "      <td>4235790354.15</td>\n",
       "      <td>49512453.00</td>\n",
       "      <td>2012.00</td>\n",
       "      <td>Technology</td>\n",
       "      <td>EDP Services</td>\n",
       "    </tr>\n",
       "    <tr>\n",
       "      <th>6822</th>\n",
       "      <td>ZEAL</td>\n",
       "      <td>NASDAQ</td>\n",
       "      <td>Zealand Pharma A/S</td>\n",
       "      <td>19.01</td>\n",
       "      <td>59540954.86</td>\n",
       "      <td>3132086.00</td>\n",
       "      <td>2017.00</td>\n",
       "      <td>Health Care</td>\n",
       "      <td>Major Pharmaceuticals</td>\n",
       "    </tr>\n",
       "    <tr>\n",
       "      <th>6835</th>\n",
       "      <td>ZLAB</td>\n",
       "      <td>NASDAQ</td>\n",
       "      <td>Zai Lab Limited</td>\n",
       "      <td>32.43</td>\n",
       "      <td>674036535.36</td>\n",
       "      <td>20784352.00</td>\n",
       "      <td>2017.00</td>\n",
       "      <td>Health Care</td>\n",
       "      <td>Major Pharmaceuticals</td>\n",
       "    </tr>\n",
       "  </tbody>\n",
       "</table>\n",
       "<p>100 rows × 9 columns</p>\n",
       "</div>"
      ],
      "text/plain": [
       "     Symbol Exchange                                 Name  Last_Price  \\\n",
       "75     ADAP   NASDAQ         Adaptimmune Therapeutics plc        4.56   \n",
       "305    AMCN   NASDAQ                  AirMedia Group Inc.        0.47   \n",
       "354    ANCN   NASDAQ           Anchiano Therapeutics Ltd.        6.67   \n",
       "398    APOP   NASDAQ           Cellect Biotechnology Ltd.        0.99   \n",
       "449    ARGX   NASDAQ                            argenx SE      127.51   \n",
       "...     ...      ...                                  ...         ...   \n",
       "6792     YI   NASDAQ                            111, Inc.        7.10   \n",
       "6793    YIN   NASDAQ  Yintech Investment Holdings Limited        6.05   \n",
       "6810     YY   NASDAQ                              YY Inc.       85.55   \n",
       "6822   ZEAL   NASDAQ                   Zealand Pharma A/S       19.01   \n",
       "6835   ZLAB   NASDAQ                      Zai Lab Limited       32.43   \n",
       "\n",
       "        Market_Cap     ADR TSO  IPO_Year       Sector  \\\n",
       "75    366034829.76 80270796.00   2015.00  Health Care   \n",
       "305     4245804.95  9035550.00   2007.00   Technology   \n",
       "354    17690000.58  2652174.00   2019.00  Health Care   \n",
       "398     6432765.64  6468992.00   2016.00  Health Care   \n",
       "449  2656424245.66 20833066.00   2017.00  Health Care   \n",
       "...            ...         ...       ...          ...   \n",
       "6792   56690340.50  7984555.00   2018.00  Health Care   \n",
       "6793   97220323.75 16069475.00   2016.00      Finance   \n",
       "6810 4235790354.15 49512453.00   2012.00   Technology   \n",
       "6822   59540954.86  3132086.00   2017.00  Health Care   \n",
       "6835  674036535.36 20784352.00   2017.00  Health Care   \n",
       "\n",
       "                                               Industry  \n",
       "75    Biotechnology: Biological Products (No Diagnos...  \n",
       "305                                         Advertising  \n",
       "354                               Major Pharmaceuticals  \n",
       "398                          Medical/Dental Instruments  \n",
       "449   Biotechnology: Biological Products (No Diagnos...  \n",
       "...                                                 ...  \n",
       "6792                           Medical/Nursing Services  \n",
       "6793                 Investment Bankers/Brokers/Service  \n",
       "6810                                       EDP Services  \n",
       "6822                              Major Pharmaceuticals  \n",
       "6835                              Major Pharmaceuticals  \n",
       "\n",
       "[100 rows x 9 columns]"
      ]
     },
     "execution_count": 16,
     "metadata": {},
     "output_type": "execute_result"
    }
   ],
   "source": [
    "listings.dropna()"
   ]
  },
  {
   "cell_type": "markdown",
   "metadata": {},
   "source": [
    "There are only ... 100 rows left."
   ]
  },
  {
   "cell_type": "markdown",
   "metadata": {},
   "source": [
    "54. __Drop__ all __columns__ with __at least one NA-Value__ from listings (don´t overwrite listings!). __How many__ columns are __left__?"
   ]
  },
  {
   "cell_type": "code",
   "execution_count": 17,
   "metadata": {},
   "outputs": [
    {
     "data": {
      "text/html": [
       "<div>\n",
       "<style scoped>\n",
       "    .dataframe tbody tr th:only-of-type {\n",
       "        vertical-align: middle;\n",
       "    }\n",
       "\n",
       "    .dataframe tbody tr th {\n",
       "        vertical-align: top;\n",
       "    }\n",
       "\n",
       "    .dataframe thead th {\n",
       "        text-align: right;\n",
       "    }\n",
       "</style>\n",
       "<table border=\"1\" class=\"dataframe\">\n",
       "  <thead>\n",
       "    <tr style=\"text-align: right;\">\n",
       "      <th></th>\n",
       "      <th>Symbol</th>\n",
       "      <th>Exchange</th>\n",
       "      <th>Name</th>\n",
       "    </tr>\n",
       "  </thead>\n",
       "  <tbody>\n",
       "    <tr>\n",
       "      <th>0</th>\n",
       "      <td>A</td>\n",
       "      <td>NYSE</td>\n",
       "      <td>Agilent Technologies, Inc.</td>\n",
       "    </tr>\n",
       "    <tr>\n",
       "      <th>1</th>\n",
       "      <td>AA</td>\n",
       "      <td>NYSE</td>\n",
       "      <td>Alcoa Corporation</td>\n",
       "    </tr>\n",
       "    <tr>\n",
       "      <th>2</th>\n",
       "      <td>AABA</td>\n",
       "      <td>NASDAQ</td>\n",
       "      <td>Altaba Inc.</td>\n",
       "    </tr>\n",
       "    <tr>\n",
       "      <th>3</th>\n",
       "      <td>AAC</td>\n",
       "      <td>NYSE</td>\n",
       "      <td>AAC Holdings, Inc.</td>\n",
       "    </tr>\n",
       "    <tr>\n",
       "      <th>4</th>\n",
       "      <td>AAL</td>\n",
       "      <td>NASDAQ</td>\n",
       "      <td>American Airlines Group, Inc.</td>\n",
       "    </tr>\n",
       "    <tr>\n",
       "      <th>...</th>\n",
       "      <td>...</td>\n",
       "      <td>...</td>\n",
       "      <td>...</td>\n",
       "    </tr>\n",
       "    <tr>\n",
       "      <th>6847</th>\n",
       "      <td>ZUMZ</td>\n",
       "      <td>NASDAQ</td>\n",
       "      <td>Zumiez Inc.</td>\n",
       "    </tr>\n",
       "    <tr>\n",
       "      <th>6848</th>\n",
       "      <td>ZUO</td>\n",
       "      <td>NYSE</td>\n",
       "      <td>Zuora, Inc.</td>\n",
       "    </tr>\n",
       "    <tr>\n",
       "      <th>6849</th>\n",
       "      <td>ZYME</td>\n",
       "      <td>NYSE</td>\n",
       "      <td>Zymeworks Inc.</td>\n",
       "    </tr>\n",
       "    <tr>\n",
       "      <th>6850</th>\n",
       "      <td>ZYNE</td>\n",
       "      <td>NASDAQ</td>\n",
       "      <td>Zynerba Pharmaceuticals, Inc.</td>\n",
       "    </tr>\n",
       "    <tr>\n",
       "      <th>6851</th>\n",
       "      <td>ZYXI</td>\n",
       "      <td>NASDAQ</td>\n",
       "      <td>Zynex, Inc.</td>\n",
       "    </tr>\n",
       "  </tbody>\n",
       "</table>\n",
       "<p>6852 rows × 3 columns</p>\n",
       "</div>"
      ],
      "text/plain": [
       "     Symbol Exchange                           Name\n",
       "0         A     NYSE     Agilent Technologies, Inc.\n",
       "1        AA     NYSE              Alcoa Corporation\n",
       "2      AABA   NASDAQ                    Altaba Inc.\n",
       "3       AAC     NYSE             AAC Holdings, Inc.\n",
       "4       AAL   NASDAQ  American Airlines Group, Inc.\n",
       "...     ...      ...                            ...\n",
       "6847   ZUMZ   NASDAQ                    Zumiez Inc.\n",
       "6848    ZUO     NYSE                    Zuora, Inc.\n",
       "6849   ZYME     NYSE                 Zymeworks Inc.\n",
       "6850   ZYNE   NASDAQ  Zynerba Pharmaceuticals, Inc.\n",
       "6851   ZYXI   NASDAQ                    Zynex, Inc.\n",
       "\n",
       "[6852 rows x 3 columns]"
      ]
     },
     "execution_count": 17,
     "metadata": {},
     "output_type": "execute_result"
    }
   ],
   "source": [
    "listings.dropna(axis=1)"
   ]
  },
  {
   "cell_type": "markdown",
   "metadata": {},
   "source": [
    "There are only ... 3 columns left!"
   ]
  },
  {
   "cell_type": "markdown",
   "metadata": {},
   "source": [
    "55. We finally decide to __drop__ all __columns__ with __less than 3000 non-null values__. __Overwrite__ listings! __Fill in the gaps!__"
   ]
  },
  {
   "cell_type": "code",
   "execution_count": 18,
   "metadata": {},
   "outputs": [],
   "source": [
    "listings.dropna(axis = 1, thresh = 3000, inplace = True)"
   ]
  },
  {
   "cell_type": "code",
   "execution_count": 19,
   "metadata": {},
   "outputs": [
    {
     "name": "stdout",
     "output_type": "stream",
     "text": [
      "<class 'pandas.core.frame.DataFrame'>\n",
      "RangeIndex: 6852 entries, 0 to 6851\n",
      "Data columns (total 8 columns):\n",
      " #   Column      Non-Null Count  Dtype  \n",
      "---  ------      --------------  -----  \n",
      " 0   Symbol      6852 non-null   object \n",
      " 1   Exchange    6852 non-null   object \n",
      " 2   Name        6852 non-null   object \n",
      " 3   Last_Price  6745 non-null   float64\n",
      " 4   Market_Cap  5954 non-null   float64\n",
      " 5   IPO_Year    3105 non-null   float64\n",
      " 6   Sector      5309 non-null   object \n",
      " 7   Industry    5309 non-null   object \n",
      "dtypes: float64(3), object(5)\n",
      "memory usage: 428.4+ KB\n"
     ]
    }
   ],
   "source": [
    "# run the cell!\n",
    "listings.info()"
   ]
  },
  {
   "cell_type": "markdown",
   "metadata": {},
   "source": [
    "56. __Filter__ listings for all rows/listings with __NA-values__ in the __Last_Price__ column. Save the new DataFrame in the variable __no_price__. <br>\n",
    "__Fill in the gaps__!"
   ]
  },
  {
   "cell_type": "code",
   "execution_count": 20,
   "metadata": {},
   "outputs": [],
   "source": [
    "no_price = listings.loc[listings.Last_Price.isna()]"
   ]
  },
  {
   "cell_type": "markdown",
   "metadata": {},
   "source": [
    "What do all listings with __NA-values in the Last_Price__ column have in common (hint: check the __Market_Cap__ column)?"
   ]
  },
  {
   "cell_type": "code",
   "execution_count": 21,
   "metadata": {
    "scrolled": false
   },
   "outputs": [
    {
     "data": {
      "text/html": [
       "<div>\n",
       "<style scoped>\n",
       "    .dataframe tbody tr th:only-of-type {\n",
       "        vertical-align: middle;\n",
       "    }\n",
       "\n",
       "    .dataframe tbody tr th {\n",
       "        vertical-align: top;\n",
       "    }\n",
       "\n",
       "    .dataframe thead th {\n",
       "        text-align: right;\n",
       "    }\n",
       "</style>\n",
       "<table border=\"1\" class=\"dataframe\">\n",
       "  <thead>\n",
       "    <tr style=\"text-align: right;\">\n",
       "      <th></th>\n",
       "      <th>Symbol</th>\n",
       "      <th>Exchange</th>\n",
       "      <th>Name</th>\n",
       "      <th>Last_Price</th>\n",
       "      <th>Market_Cap</th>\n",
       "      <th>IPO_Year</th>\n",
       "      <th>Sector</th>\n",
       "      <th>Industry</th>\n",
       "    </tr>\n",
       "  </thead>\n",
       "  <tbody>\n",
       "    <tr>\n",
       "      <th>151</th>\n",
       "      <td>AGM.A</td>\n",
       "      <td>NYSE</td>\n",
       "      <td>Federal Agricultural Mortgage Corporation</td>\n",
       "      <td>nan</td>\n",
       "      <td>0.00</td>\n",
       "      <td>nan</td>\n",
       "      <td>NaN</td>\n",
       "      <td>NaN</td>\n",
       "    </tr>\n",
       "    <tr>\n",
       "      <th>190</th>\n",
       "      <td>AIG.WS</td>\n",
       "      <td>NYSE</td>\n",
       "      <td>American International Group, Inc.</td>\n",
       "      <td>nan</td>\n",
       "      <td>0.00</td>\n",
       "      <td>nan</td>\n",
       "      <td>NaN</td>\n",
       "      <td>NaN</td>\n",
       "    </tr>\n",
       "    <tr>\n",
       "      <th>224</th>\n",
       "      <td>AKO.A</td>\n",
       "      <td>NYSE</td>\n",
       "      <td>Embotelladora Andina S.A.</td>\n",
       "      <td>nan</td>\n",
       "      <td>0.00</td>\n",
       "      <td>nan</td>\n",
       "      <td>NaN</td>\n",
       "      <td>NaN</td>\n",
       "    </tr>\n",
       "    <tr>\n",
       "      <th>225</th>\n",
       "      <td>AKO.B</td>\n",
       "      <td>NYSE</td>\n",
       "      <td>Embotelladora Andina S.A.</td>\n",
       "      <td>nan</td>\n",
       "      <td>0.00</td>\n",
       "      <td>nan</td>\n",
       "      <td>NaN</td>\n",
       "      <td>NaN</td>\n",
       "    </tr>\n",
       "    <tr>\n",
       "      <th>254</th>\n",
       "      <td>ALIT</td>\n",
       "      <td>NASDAQ</td>\n",
       "      <td>Alight Inc.</td>\n",
       "      <td>nan</td>\n",
       "      <td>0.00</td>\n",
       "      <td>nan</td>\n",
       "      <td>NaN</td>\n",
       "      <td>NaN</td>\n",
       "    </tr>\n",
       "  </tbody>\n",
       "</table>\n",
       "</div>"
      ],
      "text/plain": [
       "     Symbol Exchange                                       Name  Last_Price  \\\n",
       "151   AGM.A     NYSE  Federal Agricultural Mortgage Corporation         nan   \n",
       "190  AIG.WS     NYSE         American International Group, Inc.         nan   \n",
       "224   AKO.A     NYSE                  Embotelladora Andina S.A.         nan   \n",
       "225   AKO.B     NYSE                  Embotelladora Andina S.A.         nan   \n",
       "254    ALIT   NASDAQ                                Alight Inc.         nan   \n",
       "\n",
       "     Market_Cap  IPO_Year Sector Industry  \n",
       "151        0.00       nan    NaN      NaN  \n",
       "190        0.00       nan    NaN      NaN  \n",
       "224        0.00       nan    NaN      NaN  \n",
       "225        0.00       nan    NaN      NaN  \n",
       "254        0.00       nan    NaN      NaN  "
      ]
     },
     "execution_count": 21,
     "metadata": {},
     "output_type": "execute_result"
    }
   ],
   "source": [
    "# run the cell and inspect!\n",
    "no_price.head()"
   ]
  },
  {
   "cell_type": "code",
   "execution_count": 22,
   "metadata": {},
   "outputs": [
    {
     "name": "stdout",
     "output_type": "stream",
     "text": [
      "<class 'pandas.core.frame.DataFrame'>\n",
      "Int64Index: 107 entries, 151 to 6839\n",
      "Data columns (total 8 columns):\n",
      " #   Column      Non-Null Count  Dtype  \n",
      "---  ------      --------------  -----  \n",
      " 0   Symbol      107 non-null    object \n",
      " 1   Exchange    107 non-null    object \n",
      " 2   Name        107 non-null    object \n",
      " 3   Last_Price  0 non-null      float64\n",
      " 4   Market_Cap  107 non-null    float64\n",
      " 5   IPO_Year    27 non-null     float64\n",
      " 6   Sector      3 non-null      object \n",
      " 7   Industry    3 non-null      object \n",
      "dtypes: float64(3), object(5)\n",
      "memory usage: 7.5+ KB\n"
     ]
    }
   ],
   "source": [
    "# run the cell and inspect!\n",
    "no_price.info()"
   ]
  },
  {
   "cell_type": "code",
   "execution_count": 23,
   "metadata": {},
   "outputs": [
    {
     "data": {
      "text/plain": [
       "0.00    107\n",
       "Name: Market_Cap, dtype: int64"
      ]
     },
     "execution_count": 23,
     "metadata": {},
     "output_type": "execute_result"
    }
   ],
   "source": [
    "#run the cell and inspect!\n",
    "no_price.Market_Cap.value_counts()"
   ]
  },
  {
   "cell_type": "markdown",
   "metadata": {},
   "source": [
    "The Market_Cap is 0.0 for all listings with NA-values in the Last_Price column. Therefore, it might make sense to..."
   ]
  },
  {
   "cell_type": "markdown",
   "metadata": {},
   "source": [
    "57. ...__Fill all NA-Values__ in the __Last_Price__ column of listings with __0.0__! __Save the change__!"
   ]
  },
  {
   "cell_type": "code",
   "execution_count": 25,
   "metadata": {},
   "outputs": [],
   "source": [
    "no_price.Last_Price.fillna(value=0.0, inplace=True)"
   ]
  },
  {
   "cell_type": "code",
   "execution_count": 26,
   "metadata": {},
   "outputs": [
    {
     "name": "stdout",
     "output_type": "stream",
     "text": [
      "<class 'pandas.core.frame.DataFrame'>\n",
      "RangeIndex: 6852 entries, 0 to 6851\n",
      "Data columns (total 8 columns):\n",
      " #   Column      Non-Null Count  Dtype  \n",
      "---  ------      --------------  -----  \n",
      " 0   Symbol      6852 non-null   object \n",
      " 1   Exchange    6852 non-null   object \n",
      " 2   Name        6852 non-null   object \n",
      " 3   Last_Price  6745 non-null   float64\n",
      " 4   Market_Cap  5954 non-null   float64\n",
      " 5   IPO_Year    3105 non-null   float64\n",
      " 6   Sector      5309 non-null   object \n",
      " 7   Industry    5309 non-null   object \n",
      "dtypes: float64(3), object(5)\n",
      "memory usage: 428.4+ KB\n"
     ]
    }
   ],
   "source": [
    "# run the cell!\n",
    "listings.info()"
   ]
  },
  {
   "cell_type": "markdown",
   "metadata": {},
   "source": [
    "58. __Filter__ listings for all rows/listings that have __non-null values__ in the __IPO_Year__ column! __Save__ the new DataFrame in the variable __known_year__. <br> \n",
    "__Fill in the gaps!__"
   ]
  },
  {
   "cell_type": "code",
   "execution_count": 30,
   "metadata": {},
   "outputs": [],
   "source": [
    "known_year = listings.loc[~listings.IPO_Year.isna()]"
   ]
  },
  {
   "cell_type": "markdown",
   "metadata": {},
   "source": [
    "__How many__ listings with known IPO_Year are in the __known_year__ DataFrame?"
   ]
  },
  {
   "cell_type": "code",
   "execution_count": 31,
   "metadata": {},
   "outputs": [
    {
     "data": {
      "text/html": [
       "<div>\n",
       "<style scoped>\n",
       "    .dataframe tbody tr th:only-of-type {\n",
       "        vertical-align: middle;\n",
       "    }\n",
       "\n",
       "    .dataframe tbody tr th {\n",
       "        vertical-align: top;\n",
       "    }\n",
       "\n",
       "    .dataframe thead th {\n",
       "        text-align: right;\n",
       "    }\n",
       "</style>\n",
       "<table border=\"1\" class=\"dataframe\">\n",
       "  <thead>\n",
       "    <tr style=\"text-align: right;\">\n",
       "      <th></th>\n",
       "      <th>Symbol</th>\n",
       "      <th>Exchange</th>\n",
       "      <th>Name</th>\n",
       "      <th>Last_Price</th>\n",
       "      <th>Market_Cap</th>\n",
       "      <th>IPO_Year</th>\n",
       "      <th>Sector</th>\n",
       "      <th>Industry</th>\n",
       "    </tr>\n",
       "  </thead>\n",
       "  <tbody>\n",
       "    <tr>\n",
       "      <th>0</th>\n",
       "      <td>A</td>\n",
       "      <td>NYSE</td>\n",
       "      <td>Agilent Technologies, Inc.</td>\n",
       "      <td>81.68</td>\n",
       "      <td>25934696179.92</td>\n",
       "      <td>1999.00</td>\n",
       "      <td>Capital Goods</td>\n",
       "      <td>Biotechnology: Laboratory Analytical Instruments</td>\n",
       "    </tr>\n",
       "    <tr>\n",
       "      <th>1</th>\n",
       "      <td>AA</td>\n",
       "      <td>NYSE</td>\n",
       "      <td>Alcoa Corporation</td>\n",
       "      <td>29.15</td>\n",
       "      <td>5407809589.60</td>\n",
       "      <td>2016.00</td>\n",
       "      <td>Basic Industries</td>\n",
       "      <td>Aluminum</td>\n",
       "    </tr>\n",
       "    <tr>\n",
       "      <th>3</th>\n",
       "      <td>AAC</td>\n",
       "      <td>NYSE</td>\n",
       "      <td>AAC Holdings, Inc.</td>\n",
       "      <td>2.16</td>\n",
       "      <td>53141086.80</td>\n",
       "      <td>2014.00</td>\n",
       "      <td>Health Care</td>\n",
       "      <td>Medical Specialities</td>\n",
       "    </tr>\n",
       "    <tr>\n",
       "      <th>8</th>\n",
       "      <td>AAOI</td>\n",
       "      <td>NASDAQ</td>\n",
       "      <td>Applied Optoelectronics, Inc.</td>\n",
       "      <td>12.30</td>\n",
       "      <td>244556139.90</td>\n",
       "      <td>2013.00</td>\n",
       "      <td>Technology</td>\n",
       "      <td>Semiconductors</td>\n",
       "    </tr>\n",
       "    <tr>\n",
       "      <th>11</th>\n",
       "      <td>AAPL</td>\n",
       "      <td>NASDAQ</td>\n",
       "      <td>Apple Inc.</td>\n",
       "      <td>200.62</td>\n",
       "      <td>945979473600.00</td>\n",
       "      <td>1980.00</td>\n",
       "      <td>Technology</td>\n",
       "      <td>Computer Manufacturing</td>\n",
       "    </tr>\n",
       "  </tbody>\n",
       "</table>\n",
       "</div>"
      ],
      "text/plain": [
       "   Symbol Exchange                           Name  Last_Price      Market_Cap  \\\n",
       "0       A     NYSE     Agilent Technologies, Inc.       81.68  25934696179.92   \n",
       "1      AA     NYSE              Alcoa Corporation       29.15   5407809589.60   \n",
       "3     AAC     NYSE             AAC Holdings, Inc.        2.16     53141086.80   \n",
       "8    AAOI   NASDAQ  Applied Optoelectronics, Inc.       12.30    244556139.90   \n",
       "11   AAPL   NASDAQ                     Apple Inc.      200.62 945979473600.00   \n",
       "\n",
       "    IPO_Year            Sector  \\\n",
       "0    1999.00     Capital Goods   \n",
       "1    2016.00  Basic Industries   \n",
       "3    2014.00       Health Care   \n",
       "8    2013.00        Technology   \n",
       "11   1980.00        Technology   \n",
       "\n",
       "                                            Industry  \n",
       "0   Biotechnology: Laboratory Analytical Instruments  \n",
       "1                                           Aluminum  \n",
       "3                               Medical Specialities  \n",
       "8                                     Semiconductors  \n",
       "11                            Computer Manufacturing  "
      ]
     },
     "execution_count": 31,
     "metadata": {},
     "output_type": "execute_result"
    }
   ],
   "source": [
    "# run the cell!\n",
    "known_year.head()"
   ]
  },
  {
   "cell_type": "code",
   "execution_count": 32,
   "metadata": {},
   "outputs": [
    {
     "data": {
      "text/plain": [
       "(3105, 8)"
      ]
     },
     "execution_count": 32,
     "metadata": {},
     "output_type": "execute_result"
    }
   ],
   "source": [
    "# run the cell!\n",
    "known_year.shape"
   ]
  },
  {
   "cell_type": "markdown",
   "metadata": {},
   "source": [
    "There are ... 3105 listings with known IPO_Year!"
   ]
  },
  {
   "cell_type": "markdown",
   "metadata": {},
   "source": [
    "Finally, we figured out that __IPO_Year__ information is __not available__ for stocks with an IPO __prior to 1970__. Therefore..."
   ]
  },
  {
   "cell_type": "markdown",
   "metadata": {},
   "source": [
    "59. ... we decide to __fill all NA-Values__ in the __IPO_Year__ column with __1969__. __Save__ the change!"
   ]
  },
  {
   "cell_type": "code",
   "execution_count": 33,
   "metadata": {
    "scrolled": true
   },
   "outputs": [],
   "source": [
    "listings.IPO_Year.fillna(value=1969, inplace=True)"
   ]
  },
  {
   "cell_type": "markdown",
   "metadata": {},
   "source": [
    "Make a __final inspection__ of our listings DataFrame. Which __columns__ still contain __NA-values__?"
   ]
  },
  {
   "cell_type": "code",
   "execution_count": 34,
   "metadata": {},
   "outputs": [
    {
     "data": {
      "text/html": [
       "<div>\n",
       "<style scoped>\n",
       "    .dataframe tbody tr th:only-of-type {\n",
       "        vertical-align: middle;\n",
       "    }\n",
       "\n",
       "    .dataframe tbody tr th {\n",
       "        vertical-align: top;\n",
       "    }\n",
       "\n",
       "    .dataframe thead th {\n",
       "        text-align: right;\n",
       "    }\n",
       "</style>\n",
       "<table border=\"1\" class=\"dataframe\">\n",
       "  <thead>\n",
       "    <tr style=\"text-align: right;\">\n",
       "      <th></th>\n",
       "      <th>Symbol</th>\n",
       "      <th>Exchange</th>\n",
       "      <th>Name</th>\n",
       "      <th>Last_Price</th>\n",
       "      <th>Market_Cap</th>\n",
       "      <th>IPO_Year</th>\n",
       "      <th>Sector</th>\n",
       "      <th>Industry</th>\n",
       "    </tr>\n",
       "  </thead>\n",
       "  <tbody>\n",
       "    <tr>\n",
       "      <th>0</th>\n",
       "      <td>A</td>\n",
       "      <td>NYSE</td>\n",
       "      <td>Agilent Technologies, Inc.</td>\n",
       "      <td>81.68</td>\n",
       "      <td>25934696179.92</td>\n",
       "      <td>1999.00</td>\n",
       "      <td>Capital Goods</td>\n",
       "      <td>Biotechnology: Laboratory Analytical Instruments</td>\n",
       "    </tr>\n",
       "    <tr>\n",
       "      <th>1</th>\n",
       "      <td>AA</td>\n",
       "      <td>NYSE</td>\n",
       "      <td>Alcoa Corporation</td>\n",
       "      <td>29.15</td>\n",
       "      <td>5407809589.60</td>\n",
       "      <td>2016.00</td>\n",
       "      <td>Basic Industries</td>\n",
       "      <td>Aluminum</td>\n",
       "    </tr>\n",
       "    <tr>\n",
       "      <th>2</th>\n",
       "      <td>AABA</td>\n",
       "      <td>NASDAQ</td>\n",
       "      <td>Altaba Inc.</td>\n",
       "      <td>75.39</td>\n",
       "      <td>42781131315.30</td>\n",
       "      <td>1969.00</td>\n",
       "      <td>Technology</td>\n",
       "      <td>EDP Services</td>\n",
       "    </tr>\n",
       "    <tr>\n",
       "      <th>3</th>\n",
       "      <td>AAC</td>\n",
       "      <td>NYSE</td>\n",
       "      <td>AAC Holdings, Inc.</td>\n",
       "      <td>2.16</td>\n",
       "      <td>53141086.80</td>\n",
       "      <td>2014.00</td>\n",
       "      <td>Health Care</td>\n",
       "      <td>Medical Specialities</td>\n",
       "    </tr>\n",
       "    <tr>\n",
       "      <th>4</th>\n",
       "      <td>AAL</td>\n",
       "      <td>NASDAQ</td>\n",
       "      <td>American Airlines Group, Inc.</td>\n",
       "      <td>34.02</td>\n",
       "      <td>15276869742.96</td>\n",
       "      <td>1969.00</td>\n",
       "      <td>Transportation</td>\n",
       "      <td>Air Freight/Delivery Services</td>\n",
       "    </tr>\n",
       "  </tbody>\n",
       "</table>\n",
       "</div>"
      ],
      "text/plain": [
       "  Symbol Exchange                           Name  Last_Price     Market_Cap  \\\n",
       "0      A     NYSE     Agilent Technologies, Inc.       81.68 25934696179.92   \n",
       "1     AA     NYSE              Alcoa Corporation       29.15  5407809589.60   \n",
       "2   AABA   NASDAQ                    Altaba Inc.       75.39 42781131315.30   \n",
       "3    AAC     NYSE             AAC Holdings, Inc.        2.16    53141086.80   \n",
       "4    AAL   NASDAQ  American Airlines Group, Inc.       34.02 15276869742.96   \n",
       "\n",
       "   IPO_Year            Sector  \\\n",
       "0   1999.00     Capital Goods   \n",
       "1   2016.00  Basic Industries   \n",
       "2   1969.00        Technology   \n",
       "3   2014.00       Health Care   \n",
       "4   1969.00    Transportation   \n",
       "\n",
       "                                           Industry  \n",
       "0  Biotechnology: Laboratory Analytical Instruments  \n",
       "1                                          Aluminum  \n",
       "2                                      EDP Services  \n",
       "3                              Medical Specialities  \n",
       "4                     Air Freight/Delivery Services  "
      ]
     },
     "execution_count": 34,
     "metadata": {},
     "output_type": "execute_result"
    }
   ],
   "source": [
    "# run the cell!\n",
    "listings.head()"
   ]
  },
  {
   "cell_type": "code",
   "execution_count": 35,
   "metadata": {},
   "outputs": [
    {
     "name": "stdout",
     "output_type": "stream",
     "text": [
      "<class 'pandas.core.frame.DataFrame'>\n",
      "RangeIndex: 6852 entries, 0 to 6851\n",
      "Data columns (total 8 columns):\n",
      " #   Column      Non-Null Count  Dtype  \n",
      "---  ------      --------------  -----  \n",
      " 0   Symbol      6852 non-null   object \n",
      " 1   Exchange    6852 non-null   object \n",
      " 2   Name        6852 non-null   object \n",
      " 3   Last_Price  6745 non-null   float64\n",
      " 4   Market_Cap  5954 non-null   float64\n",
      " 5   IPO_Year    6852 non-null   float64\n",
      " 6   Sector      5309 non-null   object \n",
      " 7   Industry    5309 non-null   object \n",
      "dtypes: float64(3), object(5)\n",
      "memory usage: 428.4+ KB\n"
     ]
    }
   ],
   "source": [
    "#run the cell!\n",
    "listings.info()"
   ]
  },
  {
   "cell_type": "markdown",
   "metadata": {},
   "source": [
    "The columns ... Sector & Industry still contain NA-values!"
   ]
  },
  {
   "cell_type": "markdown",
   "metadata": {},
   "source": [
    "60. __Transform the datatype__ in the IPO_Year column to integer (beyond the scope of this course, run the cell!)"
   ]
  },
  {
   "cell_type": "code",
   "execution_count": 36,
   "metadata": {},
   "outputs": [],
   "source": [
    "#run the cell!\n",
    "listings.IPO_Year = listings.IPO_Year.astype(\"int\")"
   ]
  },
  {
   "cell_type": "code",
   "execution_count": 37,
   "metadata": {},
   "outputs": [
    {
     "name": "stdout",
     "output_type": "stream",
     "text": [
      "<class 'pandas.core.frame.DataFrame'>\n",
      "RangeIndex: 6852 entries, 0 to 6851\n",
      "Data columns (total 8 columns):\n",
      " #   Column      Non-Null Count  Dtype  \n",
      "---  ------      --------------  -----  \n",
      " 0   Symbol      6852 non-null   object \n",
      " 1   Exchange    6852 non-null   object \n",
      " 2   Name        6852 non-null   object \n",
      " 3   Last_Price  6745 non-null   float64\n",
      " 4   Market_Cap  5954 non-null   float64\n",
      " 5   IPO_Year    6852 non-null   int64  \n",
      " 6   Sector      5309 non-null   object \n",
      " 7   Industry    5309 non-null   object \n",
      "dtypes: float64(2), int64(1), object(5)\n",
      "memory usage: 428.4+ KB\n"
     ]
    }
   ],
   "source": [
    "#run the cell and inspect!\n",
    "listings.info()"
   ]
  },
  {
   "cell_type": "code",
   "execution_count": 38,
   "metadata": {},
   "outputs": [
    {
     "data": {
      "text/html": [
       "<div>\n",
       "<style scoped>\n",
       "    .dataframe tbody tr th:only-of-type {\n",
       "        vertical-align: middle;\n",
       "    }\n",
       "\n",
       "    .dataframe tbody tr th {\n",
       "        vertical-align: top;\n",
       "    }\n",
       "\n",
       "    .dataframe thead th {\n",
       "        text-align: right;\n",
       "    }\n",
       "</style>\n",
       "<table border=\"1\" class=\"dataframe\">\n",
       "  <thead>\n",
       "    <tr style=\"text-align: right;\">\n",
       "      <th></th>\n",
       "      <th>Symbol</th>\n",
       "      <th>Exchange</th>\n",
       "      <th>Name</th>\n",
       "      <th>Last_Price</th>\n",
       "      <th>Market_Cap</th>\n",
       "      <th>IPO_Year</th>\n",
       "      <th>Sector</th>\n",
       "      <th>Industry</th>\n",
       "    </tr>\n",
       "  </thead>\n",
       "  <tbody>\n",
       "    <tr>\n",
       "      <th>0</th>\n",
       "      <td>A</td>\n",
       "      <td>NYSE</td>\n",
       "      <td>Agilent Technologies, Inc.</td>\n",
       "      <td>81.68</td>\n",
       "      <td>25934696179.92</td>\n",
       "      <td>1999</td>\n",
       "      <td>Capital Goods</td>\n",
       "      <td>Biotechnology: Laboratory Analytical Instruments</td>\n",
       "    </tr>\n",
       "    <tr>\n",
       "      <th>1</th>\n",
       "      <td>AA</td>\n",
       "      <td>NYSE</td>\n",
       "      <td>Alcoa Corporation</td>\n",
       "      <td>29.15</td>\n",
       "      <td>5407809589.60</td>\n",
       "      <td>2016</td>\n",
       "      <td>Basic Industries</td>\n",
       "      <td>Aluminum</td>\n",
       "    </tr>\n",
       "    <tr>\n",
       "      <th>2</th>\n",
       "      <td>AABA</td>\n",
       "      <td>NASDAQ</td>\n",
       "      <td>Altaba Inc.</td>\n",
       "      <td>75.39</td>\n",
       "      <td>42781131315.30</td>\n",
       "      <td>1969</td>\n",
       "      <td>Technology</td>\n",
       "      <td>EDP Services</td>\n",
       "    </tr>\n",
       "    <tr>\n",
       "      <th>3</th>\n",
       "      <td>AAC</td>\n",
       "      <td>NYSE</td>\n",
       "      <td>AAC Holdings, Inc.</td>\n",
       "      <td>2.16</td>\n",
       "      <td>53141086.80</td>\n",
       "      <td>2014</td>\n",
       "      <td>Health Care</td>\n",
       "      <td>Medical Specialities</td>\n",
       "    </tr>\n",
       "    <tr>\n",
       "      <th>4</th>\n",
       "      <td>AAL</td>\n",
       "      <td>NASDAQ</td>\n",
       "      <td>American Airlines Group, Inc.</td>\n",
       "      <td>34.02</td>\n",
       "      <td>15276869742.96</td>\n",
       "      <td>1969</td>\n",
       "      <td>Transportation</td>\n",
       "      <td>Air Freight/Delivery Services</td>\n",
       "    </tr>\n",
       "  </tbody>\n",
       "</table>\n",
       "</div>"
      ],
      "text/plain": [
       "  Symbol Exchange                           Name  Last_Price     Market_Cap  \\\n",
       "0      A     NYSE     Agilent Technologies, Inc.       81.68 25934696179.92   \n",
       "1     AA     NYSE              Alcoa Corporation       29.15  5407809589.60   \n",
       "2   AABA   NASDAQ                    Altaba Inc.       75.39 42781131315.30   \n",
       "3    AAC     NYSE             AAC Holdings, Inc.        2.16    53141086.80   \n",
       "4    AAL   NASDAQ  American Airlines Group, Inc.       34.02 15276869742.96   \n",
       "\n",
       "   IPO_Year            Sector  \\\n",
       "0      1999     Capital Goods   \n",
       "1      2016  Basic Industries   \n",
       "2      1969        Technology   \n",
       "3      2014       Health Care   \n",
       "4      1969    Transportation   \n",
       "\n",
       "                                           Industry  \n",
       "0  Biotechnology: Laboratory Analytical Instruments  \n",
       "1                                          Aluminum  \n",
       "2                                      EDP Services  \n",
       "3                              Medical Specialities  \n",
       "4                     Air Freight/Delivery Services  "
      ]
     },
     "execution_count": 38,
     "metadata": {},
     "output_type": "execute_result"
    }
   ],
   "source": [
    "#run the cell!\n",
    "listings.head()"
   ]
  },
  {
   "cell_type": "markdown",
   "metadata": {},
   "source": [
    "61. __Save and export__ the cleaned DataFrame to the new csv-file __listings_clean.csv__! __Fill in the gaps!__"
   ]
  },
  {
   "cell_type": "code",
   "execution_count": 40,
   "metadata": {},
   "outputs": [],
   "source": [
    "listings.to_csv(\"listings_clean.csv\", index = False)"
   ]
  },
  {
   "cell_type": "markdown",
   "metadata": {},
   "source": [
    "62. __Re-Import__ listings_clean.csv and save the DataFrame in the variable __listings_clean__!"
   ]
  },
  {
   "cell_type": "code",
   "execution_count": 41,
   "metadata": {},
   "outputs": [],
   "source": [
    "listings_clean = pd.read_csv(\"listings_clean.csv\")"
   ]
  },
  {
   "cell_type": "code",
   "execution_count": 42,
   "metadata": {},
   "outputs": [
    {
     "data": {
      "text/html": [
       "<div>\n",
       "<style scoped>\n",
       "    .dataframe tbody tr th:only-of-type {\n",
       "        vertical-align: middle;\n",
       "    }\n",
       "\n",
       "    .dataframe tbody tr th {\n",
       "        vertical-align: top;\n",
       "    }\n",
       "\n",
       "    .dataframe thead th {\n",
       "        text-align: right;\n",
       "    }\n",
       "</style>\n",
       "<table border=\"1\" class=\"dataframe\">\n",
       "  <thead>\n",
       "    <tr style=\"text-align: right;\">\n",
       "      <th></th>\n",
       "      <th>Symbol</th>\n",
       "      <th>Exchange</th>\n",
       "      <th>Name</th>\n",
       "      <th>Last_Price</th>\n",
       "      <th>Market_Cap</th>\n",
       "      <th>IPO_Year</th>\n",
       "      <th>Sector</th>\n",
       "      <th>Industry</th>\n",
       "    </tr>\n",
       "  </thead>\n",
       "  <tbody>\n",
       "    <tr>\n",
       "      <th>0</th>\n",
       "      <td>A</td>\n",
       "      <td>NYSE</td>\n",
       "      <td>Agilent Technologies, Inc.</td>\n",
       "      <td>81.68</td>\n",
       "      <td>25934696179.92</td>\n",
       "      <td>1999</td>\n",
       "      <td>Capital Goods</td>\n",
       "      <td>Biotechnology: Laboratory Analytical Instruments</td>\n",
       "    </tr>\n",
       "    <tr>\n",
       "      <th>1</th>\n",
       "      <td>AA</td>\n",
       "      <td>NYSE</td>\n",
       "      <td>Alcoa Corporation</td>\n",
       "      <td>29.15</td>\n",
       "      <td>5407809589.60</td>\n",
       "      <td>2016</td>\n",
       "      <td>Basic Industries</td>\n",
       "      <td>Aluminum</td>\n",
       "    </tr>\n",
       "    <tr>\n",
       "      <th>2</th>\n",
       "      <td>AABA</td>\n",
       "      <td>NASDAQ</td>\n",
       "      <td>Altaba Inc.</td>\n",
       "      <td>75.39</td>\n",
       "      <td>42781131315.30</td>\n",
       "      <td>1969</td>\n",
       "      <td>Technology</td>\n",
       "      <td>EDP Services</td>\n",
       "    </tr>\n",
       "    <tr>\n",
       "      <th>3</th>\n",
       "      <td>AAC</td>\n",
       "      <td>NYSE</td>\n",
       "      <td>AAC Holdings, Inc.</td>\n",
       "      <td>2.16</td>\n",
       "      <td>53141086.80</td>\n",
       "      <td>2014</td>\n",
       "      <td>Health Care</td>\n",
       "      <td>Medical Specialities</td>\n",
       "    </tr>\n",
       "    <tr>\n",
       "      <th>4</th>\n",
       "      <td>AAL</td>\n",
       "      <td>NASDAQ</td>\n",
       "      <td>American Airlines Group, Inc.</td>\n",
       "      <td>34.02</td>\n",
       "      <td>15276869742.96</td>\n",
       "      <td>1969</td>\n",
       "      <td>Transportation</td>\n",
       "      <td>Air Freight/Delivery Services</td>\n",
       "    </tr>\n",
       "  </tbody>\n",
       "</table>\n",
       "</div>"
      ],
      "text/plain": [
       "  Symbol Exchange                           Name  Last_Price     Market_Cap  \\\n",
       "0      A     NYSE     Agilent Technologies, Inc.       81.68 25934696179.92   \n",
       "1     AA     NYSE              Alcoa Corporation       29.15  5407809589.60   \n",
       "2   AABA   NASDAQ                    Altaba Inc.       75.39 42781131315.30   \n",
       "3    AAC     NYSE             AAC Holdings, Inc.        2.16    53141086.80   \n",
       "4    AAL   NASDAQ  American Airlines Group, Inc.       34.02 15276869742.96   \n",
       "\n",
       "   IPO_Year            Sector  \\\n",
       "0      1999     Capital Goods   \n",
       "1      2016  Basic Industries   \n",
       "2      1969        Technology   \n",
       "3      2014       Health Care   \n",
       "4      1969    Transportation   \n",
       "\n",
       "                                           Industry  \n",
       "0  Biotechnology: Laboratory Analytical Instruments  \n",
       "1                                          Aluminum  \n",
       "2                                      EDP Services  \n",
       "3                              Medical Specialities  \n",
       "4                     Air Freight/Delivery Services  "
      ]
     },
     "execution_count": 42,
     "metadata": {},
     "output_type": "execute_result"
    }
   ],
   "source": [
    "# run the cell!\n",
    "listings_clean.head()"
   ]
  },
  {
   "cell_type": "code",
   "execution_count": 43,
   "metadata": {},
   "outputs": [
    {
     "name": "stdout",
     "output_type": "stream",
     "text": [
      "<class 'pandas.core.frame.DataFrame'>\n",
      "RangeIndex: 6852 entries, 0 to 6851\n",
      "Data columns (total 8 columns):\n",
      " #   Column      Non-Null Count  Dtype  \n",
      "---  ------      --------------  -----  \n",
      " 0   Symbol      6852 non-null   object \n",
      " 1   Exchange    6852 non-null   object \n",
      " 2   Name        6852 non-null   object \n",
      " 3   Last_Price  6745 non-null   float64\n",
      " 4   Market_Cap  5954 non-null   float64\n",
      " 5   IPO_Year    6852 non-null   int64  \n",
      " 6   Sector      5309 non-null   object \n",
      " 7   Industry    5309 non-null   object \n",
      "dtypes: float64(2), int64(1), object(5)\n",
      "memory usage: 428.4+ KB\n"
     ]
    }
   ],
   "source": [
    "# run the cell!\n",
    "listings_clean.info()"
   ]
  },
  {
   "cell_type": "markdown",
   "metadata": {},
   "source": [
    "63. Call an appropriate method on the __listings_clean__ DataFrame that provides plenty of __summary statistics__!"
   ]
  },
  {
   "cell_type": "code",
   "execution_count": 45,
   "metadata": {
    "scrolled": true
   },
   "outputs": [
    {
     "data": {
      "text/html": [
       "<div>\n",
       "<style scoped>\n",
       "    .dataframe tbody tr th:only-of-type {\n",
       "        vertical-align: middle;\n",
       "    }\n",
       "\n",
       "    .dataframe tbody tr th {\n",
       "        vertical-align: top;\n",
       "    }\n",
       "\n",
       "    .dataframe thead th {\n",
       "        text-align: right;\n",
       "    }\n",
       "</style>\n",
       "<table border=\"1\" class=\"dataframe\">\n",
       "  <thead>\n",
       "    <tr style=\"text-align: right;\">\n",
       "      <th></th>\n",
       "      <th>Last_Price</th>\n",
       "      <th>Market_Cap</th>\n",
       "      <th>IPO_Year</th>\n",
       "    </tr>\n",
       "  </thead>\n",
       "  <tbody>\n",
       "    <tr>\n",
       "      <th>count</th>\n",
       "      <td>6745.00</td>\n",
       "      <td>5954.00</td>\n",
       "      <td>6852.00</td>\n",
       "    </tr>\n",
       "    <tr>\n",
       "      <th>mean</th>\n",
       "      <td>37.37</td>\n",
       "      <td>7174440219.09</td>\n",
       "      <td>1987.14</td>\n",
       "    </tr>\n",
       "    <tr>\n",
       "      <th>std</th>\n",
       "      <td>99.25</td>\n",
       "      <td>35254552925.59</td>\n",
       "      <td>20.89</td>\n",
       "    </tr>\n",
       "    <tr>\n",
       "      <th>min</th>\n",
       "      <td>0.00</td>\n",
       "      <td>0.00</td>\n",
       "      <td>1969.00</td>\n",
       "    </tr>\n",
       "    <tr>\n",
       "      <th>25%</th>\n",
       "      <td>8.31</td>\n",
       "      <td>120376889.75</td>\n",
       "      <td>1969.00</td>\n",
       "    </tr>\n",
       "    <tr>\n",
       "      <th>50%</th>\n",
       "      <td>20.57</td>\n",
       "      <td>558517593.27</td>\n",
       "      <td>1969.00</td>\n",
       "    </tr>\n",
       "    <tr>\n",
       "      <th>75%</th>\n",
       "      <td>37.37</td>\n",
       "      <td>2888746939.46</td>\n",
       "      <td>2012.00</td>\n",
       "    </tr>\n",
       "    <tr>\n",
       "      <th>max</th>\n",
       "      <td>4299.99</td>\n",
       "      <td>945979473600.00</td>\n",
       "      <td>2019.00</td>\n",
       "    </tr>\n",
       "  </tbody>\n",
       "</table>\n",
       "</div>"
      ],
      "text/plain": [
       "       Last_Price      Market_Cap  IPO_Year\n",
       "count     6745.00         5954.00   6852.00\n",
       "mean        37.37   7174440219.09   1987.14\n",
       "std         99.25  35254552925.59     20.89\n",
       "min          0.00            0.00   1969.00\n",
       "25%          8.31    120376889.75   1969.00\n",
       "50%         20.57    558517593.27   1969.00\n",
       "75%         37.37   2888746939.46   2012.00\n",
       "max       4299.99 945979473600.00   2019.00"
      ]
     },
     "execution_count": 45,
     "metadata": {},
     "output_type": "execute_result"
    }
   ],
   "source": [
    "listings.describe()"
   ]
  },
  {
   "cell_type": "markdown",
   "metadata": {},
   "source": [
    "63a. __Calculate__ the __mean__ and the __standard deviation__ for the numerical columns (use the appropriate method!)."
   ]
  },
  {
   "cell_type": "code",
   "execution_count": 47,
   "metadata": {},
   "outputs": [
    {
     "data": {
      "text/html": [
       "<div>\n",
       "<style scoped>\n",
       "    .dataframe tbody tr th:only-of-type {\n",
       "        vertical-align: middle;\n",
       "    }\n",
       "\n",
       "    .dataframe tbody tr th {\n",
       "        vertical-align: top;\n",
       "    }\n",
       "\n",
       "    .dataframe thead th {\n",
       "        text-align: right;\n",
       "    }\n",
       "</style>\n",
       "<table border=\"1\" class=\"dataframe\">\n",
       "  <thead>\n",
       "    <tr style=\"text-align: right;\">\n",
       "      <th></th>\n",
       "      <th>Last_Price</th>\n",
       "      <th>Market_Cap</th>\n",
       "      <th>IPO_Year</th>\n",
       "    </tr>\n",
       "  </thead>\n",
       "  <tbody>\n",
       "    <tr>\n",
       "      <th>mean</th>\n",
       "      <td>37.37</td>\n",
       "      <td>7174440219.09</td>\n",
       "      <td>1987.14</td>\n",
       "    </tr>\n",
       "    <tr>\n",
       "      <th>std</th>\n",
       "      <td>99.25</td>\n",
       "      <td>35254552925.59</td>\n",
       "      <td>20.89</td>\n",
       "    </tr>\n",
       "  </tbody>\n",
       "</table>\n",
       "</div>"
      ],
      "text/plain": [
       "      Last_Price     Market_Cap  IPO_Year\n",
       "mean       37.37  7174440219.09   1987.14\n",
       "std        99.25 35254552925.59     20.89"
      ]
     },
     "execution_count": 47,
     "metadata": {},
     "output_type": "execute_result"
    }
   ],
   "source": [
    "listings.agg([\"mean\", \"std\"])"
   ]
  },
  {
   "cell_type": "markdown",
   "metadata": {},
   "source": [
    "64. Get some summary statistics on all __non-numerical columns__ by passing __\"O\"__ to the __include parameter__ of the __describe()__ method! __Fill in the gaps!__ <br>\n",
    "What is the __most frequent__ value in the __Industry__ column? "
   ]
  },
  {
   "cell_type": "code",
   "execution_count": 48,
   "metadata": {},
   "outputs": [
    {
     "data": {
      "text/html": [
       "<div>\n",
       "<style scoped>\n",
       "    .dataframe tbody tr th:only-of-type {\n",
       "        vertical-align: middle;\n",
       "    }\n",
       "\n",
       "    .dataframe tbody tr th {\n",
       "        vertical-align: top;\n",
       "    }\n",
       "\n",
       "    .dataframe thead th {\n",
       "        text-align: right;\n",
       "    }\n",
       "</style>\n",
       "<table border=\"1\" class=\"dataframe\">\n",
       "  <thead>\n",
       "    <tr style=\"text-align: right;\">\n",
       "      <th></th>\n",
       "      <th>Symbol</th>\n",
       "      <th>Exchange</th>\n",
       "      <th>Name</th>\n",
       "      <th>Sector</th>\n",
       "      <th>Industry</th>\n",
       "    </tr>\n",
       "  </thead>\n",
       "  <tbody>\n",
       "    <tr>\n",
       "      <th>count</th>\n",
       "      <td>6852</td>\n",
       "      <td>6852</td>\n",
       "      <td>6852</td>\n",
       "      <td>5309</td>\n",
       "      <td>5309</td>\n",
       "    </tr>\n",
       "    <tr>\n",
       "      <th>unique</th>\n",
       "      <td>6840</td>\n",
       "      <td>3</td>\n",
       "      <td>5766</td>\n",
       "      <td>12</td>\n",
       "      <td>135</td>\n",
       "    </tr>\n",
       "    <tr>\n",
       "      <th>top</th>\n",
       "      <td>AMOV</td>\n",
       "      <td>NASDAQ</td>\n",
       "      <td>Public Storage</td>\n",
       "      <td>Finance</td>\n",
       "      <td>Major Pharmaceuticals</td>\n",
       "    </tr>\n",
       "    <tr>\n",
       "      <th>freq</th>\n",
       "      <td>2</td>\n",
       "      <td>3435</td>\n",
       "      <td>14</td>\n",
       "      <td>1059</td>\n",
       "      <td>470</td>\n",
       "    </tr>\n",
       "  </tbody>\n",
       "</table>\n",
       "</div>"
      ],
      "text/plain": [
       "       Symbol Exchange            Name   Sector               Industry\n",
       "count    6852     6852            6852     5309                   5309\n",
       "unique   6840        3            5766       12                    135\n",
       "top      AMOV   NASDAQ  Public Storage  Finance  Major Pharmaceuticals\n",
       "freq        2     3435              14     1059                    470"
      ]
     },
     "execution_count": 48,
     "metadata": {},
     "output_type": "execute_result"
    }
   ],
   "source": [
    "listings_clean.describe(include= \"O\")"
   ]
  },
  {
   "cell_type": "markdown",
   "metadata": {},
   "source": [
    "The most frequent Industry is ... Major Pharmaceuticals with 470 appearances."
   ]
  },
  {
   "cell_type": "markdown",
   "metadata": {},
   "source": [
    "65. Get the __maximum__ values for all columns! Which is the (alphabetically) __last Symbol__?"
   ]
  },
  {
   "cell_type": "code",
   "execution_count": 49,
   "metadata": {},
   "outputs": [
    {
     "data": {
      "text/plain": [
       "Symbol                  ZYXI\n",
       "Exchange                NYSE\n",
       "Name             voxeljet AG\n",
       "Last_Price           4299.99\n",
       "Market_Cap   945979473600.00\n",
       "IPO_Year                2019\n",
       "dtype: object"
      ]
     },
     "execution_count": 49,
     "metadata": {},
     "output_type": "execute_result"
    }
   ],
   "source": [
    "listings_clean.agg(\"max\")"
   ]
  },
  {
   "cell_type": "markdown",
   "metadata": {},
   "source": [
    "The (alphabetically) last Symbol is ... ZYXI!"
   ]
  },
  {
   "cell_type": "markdown",
   "metadata": {},
   "source": [
    "66. __Calculate__ the __total Market_Cap__ over all listings."
   ]
  },
  {
   "cell_type": "code",
   "execution_count": 50,
   "metadata": {},
   "outputs": [
    {
     "data": {
      "text/plain": [
       "Symbol        AAAAABAAACAALAAMCAAMEAANAAOIAAONAAPAAPLAATAAUA...\n",
       "Exchange      NYSENYSENASDAQNYSENASDAQAMEXNASDAQNYSENASDAQNA...\n",
       "Name          Agilent Technologies, Inc.Alcoa CorporationAlt...\n",
       "Last_Price                                            252075.71\n",
       "Market_Cap                                    42716617064473.48\n",
       "IPO_Year                                               13615868\n",
       "dtype: object"
      ]
     },
     "execution_count": 50,
     "metadata": {},
     "output_type": "execute_result"
    }
   ],
   "source": [
    "listings_clean.agg(\"sum\")"
   ]
  },
  {
   "cell_type": "markdown",
   "metadata": {},
   "source": [
    "67. Create a __correlation matrix__ for the __listings_clean__ DataFrame! Are Market_Cap and Last_Price __positively correlated__?"
   ]
  },
  {
   "cell_type": "code",
   "execution_count": 51,
   "metadata": {},
   "outputs": [
    {
     "data": {
      "text/html": [
       "<div>\n",
       "<style scoped>\n",
       "    .dataframe tbody tr th:only-of-type {\n",
       "        vertical-align: middle;\n",
       "    }\n",
       "\n",
       "    .dataframe tbody tr th {\n",
       "        vertical-align: top;\n",
       "    }\n",
       "\n",
       "    .dataframe thead th {\n",
       "        text-align: right;\n",
       "    }\n",
       "</style>\n",
       "<table border=\"1\" class=\"dataframe\">\n",
       "  <thead>\n",
       "    <tr style=\"text-align: right;\">\n",
       "      <th></th>\n",
       "      <th>Last_Price</th>\n",
       "      <th>Market_Cap</th>\n",
       "      <th>IPO_Year</th>\n",
       "    </tr>\n",
       "  </thead>\n",
       "  <tbody>\n",
       "    <tr>\n",
       "      <th>Last_Price</th>\n",
       "      <td>1.00</td>\n",
       "      <td>0.31</td>\n",
       "      <td>-0.07</td>\n",
       "    </tr>\n",
       "    <tr>\n",
       "      <th>Market_Cap</th>\n",
       "      <td>0.31</td>\n",
       "      <td>1.00</td>\n",
       "      <td>-0.07</td>\n",
       "    </tr>\n",
       "    <tr>\n",
       "      <th>IPO_Year</th>\n",
       "      <td>-0.07</td>\n",
       "      <td>-0.07</td>\n",
       "      <td>1.00</td>\n",
       "    </tr>\n",
       "  </tbody>\n",
       "</table>\n",
       "</div>"
      ],
      "text/plain": [
       "            Last_Price  Market_Cap  IPO_Year\n",
       "Last_Price        1.00        0.31     -0.07\n",
       "Market_Cap        0.31        1.00     -0.07\n",
       "IPO_Year         -0.07       -0.07      1.00"
      ]
     },
     "execution_count": 51,
     "metadata": {},
     "output_type": "execute_result"
    }
   ],
   "source": [
    "listings.corr()"
   ]
  },
  {
   "cell_type": "markdown",
   "metadata": {},
   "source": [
    "Market_Cap and Last_Price are ... positively correlated.The higher the Price, the higher the Market Capitalization."
   ]
  },
  {
   "cell_type": "markdown",
   "metadata": {},
   "source": [
    "# Well Done!"
   ]
  },
  {
   "cell_type": "markdown",
   "metadata": {},
   "source": [
    "------------------------------"
   ]
  },
  {
   "cell_type": "markdown",
   "metadata": {},
   "source": [
    "# Hints (Spoiler!)"
   ]
  },
  {
   "cell_type": "markdown",
   "metadata": {},
   "source": [
    "51. isna() method, sum() method"
   ]
  },
  {
   "cell_type": "markdown",
   "metadata": {},
   "source": [
    "52. notna() method, sum() method"
   ]
  },
  {
   "cell_type": "markdown",
   "metadata": {},
   "source": [
    "53. dropna(axis = 0) method and shape attribute"
   ]
  },
  {
   "cell_type": "markdown",
   "metadata": {},
   "source": [
    "54. dropna(axis = 1) method and shape attribute"
   ]
  },
  {
   "cell_type": "markdown",
   "metadata": {},
   "source": [
    "55. dropna() method, thresh parameter"
   ]
  },
  {
   "cell_type": "markdown",
   "metadata": {},
   "source": [
    "56. pass listings.Last_Price.isna() to the loc operator"
   ]
  },
  {
   "cell_type": "markdown",
   "metadata": {},
   "source": [
    "57. fillna() method"
   ]
  },
  {
   "cell_type": "markdown",
   "metadata": {},
   "source": [
    "58. pass listings.IPO_Year.notna() to the loc operator"
   ]
  },
  {
   "cell_type": "markdown",
   "metadata": {},
   "source": [
    "59. fillna() method"
   ]
  },
  {
   "cell_type": "markdown",
   "metadata": {},
   "source": [
    "60. run the cell!"
   ]
  },
  {
   "cell_type": "markdown",
   "metadata": {},
   "source": [
    "61. to_csv() method"
   ]
  },
  {
   "cell_type": "markdown",
   "metadata": {},
   "source": [
    "62. You should know this already!"
   ]
  },
  {
   "cell_type": "markdown",
   "metadata": {},
   "source": [
    "63. describe() method "
   ]
  },
  {
   "cell_type": "markdown",
   "metadata": {},
   "source": [
    "63a. agg() method, pass list with \"mean\" and \"std\""
   ]
  },
  {
   "cell_type": "markdown",
   "metadata": {},
   "source": [
    "64. describe() method and include parameter"
   ]
  },
  {
   "cell_type": "markdown",
   "metadata": {},
   "source": [
    "65. max() method"
   ]
  },
  {
   "cell_type": "markdown",
   "metadata": {},
   "source": [
    "66. sum() method"
   ]
  },
  {
   "cell_type": "markdown",
   "metadata": {},
   "source": [
    "67. corr() method"
   ]
  },
  {
   "cell_type": "code",
   "execution_count": null,
   "metadata": {},
   "outputs": [],
   "source": []
  }
 ],
 "metadata": {
  "kernelspec": {
   "display_name": "Python 3",
   "language": "python",
   "name": "python3"
  },
  "language_info": {
   "codemirror_mode": {
    "name": "ipython",
    "version": 3
   },
   "file_extension": ".py",
   "mimetype": "text/x-python",
   "name": "python",
   "nbconvert_exporter": "python",
   "pygments_lexer": "ipython3",
   "version": "3.8.5"
  }
 },
 "nbformat": 4,
 "nbformat_minor": 2
}
