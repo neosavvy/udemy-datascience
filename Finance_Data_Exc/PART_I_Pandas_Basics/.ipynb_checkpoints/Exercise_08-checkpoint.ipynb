{
 "cells": [
  {
   "cell_type": "markdown",
   "metadata": {},
   "source": [
    "# Coding Exercises (Part 8)"
   ]
  },
  {
   "cell_type": "markdown",
   "metadata": {},
   "source": [
    "Now, you will have the opportunity to analyze your own dataset. <br>\n",
    "__Follow the instructions__ and insert your code! You are either requested to \n",
    "- Complete the Code and __Fill in the gaps__. Gaps are marked with \"__---__\" and are __placeholders__ for your code fragment\n",
    "- Write Code completely __on your own__ "
   ]
  },
  {
   "cell_type": "markdown",
   "metadata": {},
   "source": [
    "In some exercises, you will find questions that can only be answered, if your code is correct and returns the right output! The correct answer is provided below your coding cell. There you can check whether your code is correct."
   ]
  },
  {
   "cell_type": "markdown",
   "metadata": {},
   "source": [
    "If you need a hint, check the __Hints Section__ at the end of this Notebook. Exercises and Hints are numerated accordingly."
   ]
  },
  {
   "cell_type": "markdown",
   "metadata": {},
   "source": [
    "If you need some further help or if you want to check your code, you can also watch the __solutions videos__ or check the __solutions notebook__."
   ]
  },
  {
   "cell_type": "markdown",
   "metadata": {},
   "source": [
    "### Have Fun!"
   ]
  },
  {
   "cell_type": "markdown",
   "metadata": {},
   "source": [
    "--------------------------------------------------------------------------------------------------------------"
   ]
  },
  {
   "cell_type": "markdown",
   "metadata": {},
   "source": [
    "## Pandas: Advanced Topics"
   ]
  },
  {
   "cell_type": "markdown",
   "metadata": {},
   "source": [
    "### Exercise 8: Creating and Removing Rows and Columns"
   ]
  },
  {
   "cell_type": "code",
   "execution_count": 1,
   "metadata": {},
   "outputs": [],
   "source": [
    "#run the cell!\n",
    "import pandas as pd\n",
    "pd.options.display.float_format = '{:.2f}'.format"
   ]
  },
  {
   "cell_type": "code",
   "execution_count": 2,
   "metadata": {},
   "outputs": [],
   "source": [
    "#run the cell!\n",
    "listings = pd.read_csv(\"listings_clean.csv\")"
   ]
  },
  {
   "cell_type": "code",
   "execution_count": 3,
   "metadata": {},
   "outputs": [
    {
     "data": {
      "text/html": [
       "<div>\n",
       "<style scoped>\n",
       "    .dataframe tbody tr th:only-of-type {\n",
       "        vertical-align: middle;\n",
       "    }\n",
       "\n",
       "    .dataframe tbody tr th {\n",
       "        vertical-align: top;\n",
       "    }\n",
       "\n",
       "    .dataframe thead th {\n",
       "        text-align: right;\n",
       "    }\n",
       "</style>\n",
       "<table border=\"1\" class=\"dataframe\">\n",
       "  <thead>\n",
       "    <tr style=\"text-align: right;\">\n",
       "      <th></th>\n",
       "      <th>Symbol</th>\n",
       "      <th>Exchange</th>\n",
       "      <th>Name</th>\n",
       "      <th>Last_Price</th>\n",
       "      <th>Market_Cap</th>\n",
       "      <th>IPO_Year</th>\n",
       "      <th>Sector</th>\n",
       "      <th>Industry</th>\n",
       "    </tr>\n",
       "  </thead>\n",
       "  <tbody>\n",
       "    <tr>\n",
       "      <th>0</th>\n",
       "      <td>A</td>\n",
       "      <td>NYSE</td>\n",
       "      <td>Agilent Technologies, Inc.</td>\n",
       "      <td>81.68</td>\n",
       "      <td>25934696179.92</td>\n",
       "      <td>1999</td>\n",
       "      <td>Capital Goods</td>\n",
       "      <td>Biotechnology: Laboratory Analytical Instruments</td>\n",
       "    </tr>\n",
       "    <tr>\n",
       "      <th>1</th>\n",
       "      <td>AA</td>\n",
       "      <td>NYSE</td>\n",
       "      <td>Alcoa Corporation</td>\n",
       "      <td>29.15</td>\n",
       "      <td>5407809589.60</td>\n",
       "      <td>2016</td>\n",
       "      <td>Basic Industries</td>\n",
       "      <td>Aluminum</td>\n",
       "    </tr>\n",
       "    <tr>\n",
       "      <th>2</th>\n",
       "      <td>AABA</td>\n",
       "      <td>NASDAQ</td>\n",
       "      <td>Altaba Inc.</td>\n",
       "      <td>75.39</td>\n",
       "      <td>42781131315.30</td>\n",
       "      <td>1969</td>\n",
       "      <td>Technology</td>\n",
       "      <td>EDP Services</td>\n",
       "    </tr>\n",
       "    <tr>\n",
       "      <th>3</th>\n",
       "      <td>AAC</td>\n",
       "      <td>NYSE</td>\n",
       "      <td>AAC Holdings, Inc.</td>\n",
       "      <td>2.16</td>\n",
       "      <td>53141086.80</td>\n",
       "      <td>2014</td>\n",
       "      <td>Health Care</td>\n",
       "      <td>Medical Specialities</td>\n",
       "    </tr>\n",
       "    <tr>\n",
       "      <th>4</th>\n",
       "      <td>AAL</td>\n",
       "      <td>NASDAQ</td>\n",
       "      <td>American Airlines Group, Inc.</td>\n",
       "      <td>34.02</td>\n",
       "      <td>15276869742.96</td>\n",
       "      <td>1969</td>\n",
       "      <td>Transportation</td>\n",
       "      <td>Air Freight/Delivery Services</td>\n",
       "    </tr>\n",
       "  </tbody>\n",
       "</table>\n",
       "</div>"
      ],
      "text/plain": [
       "  Symbol Exchange                           Name  Last_Price     Market_Cap  \\\n",
       "0      A     NYSE     Agilent Technologies, Inc.       81.68 25934696179.92   \n",
       "1     AA     NYSE              Alcoa Corporation       29.15  5407809589.60   \n",
       "2   AABA   NASDAQ                    Altaba Inc.       75.39 42781131315.30   \n",
       "3    AAC     NYSE             AAC Holdings, Inc.        2.16    53141086.80   \n",
       "4    AAL   NASDAQ  American Airlines Group, Inc.       34.02 15276869742.96   \n",
       "\n",
       "   IPO_Year            Sector  \\\n",
       "0      1999     Capital Goods   \n",
       "1      2016  Basic Industries   \n",
       "2      1969        Technology   \n",
       "3      2014       Health Care   \n",
       "4      1969    Transportation   \n",
       "\n",
       "                                           Industry  \n",
       "0  Biotechnology: Laboratory Analytical Instruments  \n",
       "1                                          Aluminum  \n",
       "2                                      EDP Services  \n",
       "3                              Medical Specialities  \n",
       "4                     Air Freight/Delivery Services  "
      ]
     },
     "execution_count": 3,
     "metadata": {},
     "output_type": "execute_result"
    }
   ],
   "source": [
    "#run the cell!\n",
    "listings.head()"
   ]
  },
  {
   "cell_type": "code",
   "execution_count": 4,
   "metadata": {},
   "outputs": [
    {
     "name": "stdout",
     "output_type": "stream",
     "text": [
      "<class 'pandas.core.frame.DataFrame'>\n",
      "RangeIndex: 6852 entries, 0 to 6851\n",
      "Data columns (total 8 columns):\n",
      " #   Column      Non-Null Count  Dtype  \n",
      "---  ------      --------------  -----  \n",
      " 0   Symbol      6852 non-null   object \n",
      " 1   Exchange    6852 non-null   object \n",
      " 2   Name        6852 non-null   object \n",
      " 3   Last_Price  6745 non-null   float64\n",
      " 4   Market_Cap  5954 non-null   float64\n",
      " 5   IPO_Year    6852 non-null   int64  \n",
      " 6   Sector      5309 non-null   object \n",
      " 7   Industry    5309 non-null   object \n",
      "dtypes: float64(2), int64(1), object(5)\n",
      "memory usage: 428.4+ KB\n"
     ]
    }
   ],
   "source": [
    "# run the cell!\n",
    "listings.info()"
   ]
  },
  {
   "cell_type": "markdown",
   "metadata": {},
   "source": [
    "76. __Drop__ the columns __\"Symbol\"__ and __\"Sector\"__ from the DataFrame listings! __Save__ the change! __Fill in the gaps!__"
   ]
  },
  {
   "cell_type": "code",
   "execution_count": 5,
   "metadata": {
    "scrolled": true
   },
   "outputs": [],
   "source": [
    "listings.drop(columns = [\"Symbol\", \"Sector\"], inplace = True)"
   ]
  },
  {
   "cell_type": "code",
   "execution_count": null,
   "metadata": {},
   "outputs": [],
   "source": []
  },
  {
   "cell_type": "code",
   "execution_count": 6,
   "metadata": {},
   "outputs": [
    {
     "data": {
      "text/html": [
       "<div>\n",
       "<style scoped>\n",
       "    .dataframe tbody tr th:only-of-type {\n",
       "        vertical-align: middle;\n",
       "    }\n",
       "\n",
       "    .dataframe tbody tr th {\n",
       "        vertical-align: top;\n",
       "    }\n",
       "\n",
       "    .dataframe thead th {\n",
       "        text-align: right;\n",
       "    }\n",
       "</style>\n",
       "<table border=\"1\" class=\"dataframe\">\n",
       "  <thead>\n",
       "    <tr style=\"text-align: right;\">\n",
       "      <th></th>\n",
       "      <th>Exchange</th>\n",
       "      <th>Name</th>\n",
       "      <th>Last_Price</th>\n",
       "      <th>Market_Cap</th>\n",
       "      <th>IPO_Year</th>\n",
       "      <th>Industry</th>\n",
       "    </tr>\n",
       "  </thead>\n",
       "  <tbody>\n",
       "    <tr>\n",
       "      <th>0</th>\n",
       "      <td>NYSE</td>\n",
       "      <td>Agilent Technologies, Inc.</td>\n",
       "      <td>81.68</td>\n",
       "      <td>25934696179.92</td>\n",
       "      <td>1999</td>\n",
       "      <td>Biotechnology: Laboratory Analytical Instruments</td>\n",
       "    </tr>\n",
       "    <tr>\n",
       "      <th>1</th>\n",
       "      <td>NYSE</td>\n",
       "      <td>Alcoa Corporation</td>\n",
       "      <td>29.15</td>\n",
       "      <td>5407809589.60</td>\n",
       "      <td>2016</td>\n",
       "      <td>Aluminum</td>\n",
       "    </tr>\n",
       "    <tr>\n",
       "      <th>2</th>\n",
       "      <td>NASDAQ</td>\n",
       "      <td>Altaba Inc.</td>\n",
       "      <td>75.39</td>\n",
       "      <td>42781131315.30</td>\n",
       "      <td>1969</td>\n",
       "      <td>EDP Services</td>\n",
       "    </tr>\n",
       "    <tr>\n",
       "      <th>3</th>\n",
       "      <td>NYSE</td>\n",
       "      <td>AAC Holdings, Inc.</td>\n",
       "      <td>2.16</td>\n",
       "      <td>53141086.80</td>\n",
       "      <td>2014</td>\n",
       "      <td>Medical Specialities</td>\n",
       "    </tr>\n",
       "    <tr>\n",
       "      <th>4</th>\n",
       "      <td>NASDAQ</td>\n",
       "      <td>American Airlines Group, Inc.</td>\n",
       "      <td>34.02</td>\n",
       "      <td>15276869742.96</td>\n",
       "      <td>1969</td>\n",
       "      <td>Air Freight/Delivery Services</td>\n",
       "    </tr>\n",
       "  </tbody>\n",
       "</table>\n",
       "</div>"
      ],
      "text/plain": [
       "  Exchange                           Name  Last_Price     Market_Cap  \\\n",
       "0     NYSE     Agilent Technologies, Inc.       81.68 25934696179.92   \n",
       "1     NYSE              Alcoa Corporation       29.15  5407809589.60   \n",
       "2   NASDAQ                    Altaba Inc.       75.39 42781131315.30   \n",
       "3     NYSE             AAC Holdings, Inc.        2.16    53141086.80   \n",
       "4   NASDAQ  American Airlines Group, Inc.       34.02 15276869742.96   \n",
       "\n",
       "   IPO_Year                                          Industry  \n",
       "0      1999  Biotechnology: Laboratory Analytical Instruments  \n",
       "1      2016                                          Aluminum  \n",
       "2      1969                                      EDP Services  \n",
       "3      2014                              Medical Specialities  \n",
       "4      1969                     Air Freight/Delivery Services  "
      ]
     },
     "execution_count": 6,
     "metadata": {},
     "output_type": "execute_result"
    }
   ],
   "source": [
    "# run the cell!\n",
    "listings.head()"
   ]
  },
  {
   "cell_type": "code",
   "execution_count": null,
   "metadata": {},
   "outputs": [],
   "source": []
  },
  {
   "cell_type": "markdown",
   "metadata": {},
   "source": [
    "77. __Drop__ all rows/listings on __\"AMEX\"__ from the DataFrame listings! Use the __loc__ operator and __overwrite listings__!<br> __Fill in the gaps!__"
   ]
  },
  {
   "cell_type": "code",
   "execution_count": 8,
   "metadata": {
    "scrolled": true
   },
   "outputs": [],
   "source": [
    "listings = listings.loc[listings.Exchange != \"AMEX\"]"
   ]
  },
  {
   "cell_type": "code",
   "execution_count": 9,
   "metadata": {},
   "outputs": [
    {
     "data": {
      "text/html": [
       "<div>\n",
       "<style scoped>\n",
       "    .dataframe tbody tr th:only-of-type {\n",
       "        vertical-align: middle;\n",
       "    }\n",
       "\n",
       "    .dataframe tbody tr th {\n",
       "        vertical-align: top;\n",
       "    }\n",
       "\n",
       "    .dataframe thead th {\n",
       "        text-align: right;\n",
       "    }\n",
       "</style>\n",
       "<table border=\"1\" class=\"dataframe\">\n",
       "  <thead>\n",
       "    <tr style=\"text-align: right;\">\n",
       "      <th></th>\n",
       "      <th>Exchange</th>\n",
       "      <th>Name</th>\n",
       "      <th>Last_Price</th>\n",
       "      <th>Market_Cap</th>\n",
       "      <th>IPO_Year</th>\n",
       "      <th>Industry</th>\n",
       "    </tr>\n",
       "  </thead>\n",
       "  <tbody>\n",
       "    <tr>\n",
       "      <th>0</th>\n",
       "      <td>NYSE</td>\n",
       "      <td>Agilent Technologies, Inc.</td>\n",
       "      <td>81.68</td>\n",
       "      <td>25934696179.92</td>\n",
       "      <td>1999</td>\n",
       "      <td>Biotechnology: Laboratory Analytical Instruments</td>\n",
       "    </tr>\n",
       "    <tr>\n",
       "      <th>1</th>\n",
       "      <td>NYSE</td>\n",
       "      <td>Alcoa Corporation</td>\n",
       "      <td>29.15</td>\n",
       "      <td>5407809589.60</td>\n",
       "      <td>2016</td>\n",
       "      <td>Aluminum</td>\n",
       "    </tr>\n",
       "    <tr>\n",
       "      <th>2</th>\n",
       "      <td>NASDAQ</td>\n",
       "      <td>Altaba Inc.</td>\n",
       "      <td>75.39</td>\n",
       "      <td>42781131315.30</td>\n",
       "      <td>1969</td>\n",
       "      <td>EDP Services</td>\n",
       "    </tr>\n",
       "    <tr>\n",
       "      <th>3</th>\n",
       "      <td>NYSE</td>\n",
       "      <td>AAC Holdings, Inc.</td>\n",
       "      <td>2.16</td>\n",
       "      <td>53141086.80</td>\n",
       "      <td>2014</td>\n",
       "      <td>Medical Specialities</td>\n",
       "    </tr>\n",
       "    <tr>\n",
       "      <th>4</th>\n",
       "      <td>NASDAQ</td>\n",
       "      <td>American Airlines Group, Inc.</td>\n",
       "      <td>34.02</td>\n",
       "      <td>15276869742.96</td>\n",
       "      <td>1969</td>\n",
       "      <td>Air Freight/Delivery Services</td>\n",
       "    </tr>\n",
       "  </tbody>\n",
       "</table>\n",
       "</div>"
      ],
      "text/plain": [
       "  Exchange                           Name  Last_Price     Market_Cap  \\\n",
       "0     NYSE     Agilent Technologies, Inc.       81.68 25934696179.92   \n",
       "1     NYSE              Alcoa Corporation       29.15  5407809589.60   \n",
       "2   NASDAQ                    Altaba Inc.       75.39 42781131315.30   \n",
       "3     NYSE             AAC Holdings, Inc.        2.16    53141086.80   \n",
       "4   NASDAQ  American Airlines Group, Inc.       34.02 15276869742.96   \n",
       "\n",
       "   IPO_Year                                          Industry  \n",
       "0      1999  Biotechnology: Laboratory Analytical Instruments  \n",
       "1      2016                                          Aluminum  \n",
       "2      1969                                      EDP Services  \n",
       "3      2014                              Medical Specialities  \n",
       "4      1969                     Air Freight/Delivery Services  "
      ]
     },
     "execution_count": 9,
     "metadata": {},
     "output_type": "execute_result"
    }
   ],
   "source": [
    "# run the cell!\n",
    "listings.head()"
   ]
  },
  {
   "cell_type": "code",
   "execution_count": null,
   "metadata": {},
   "outputs": [],
   "source": [
    "# run the cell!\n",
    "listings.info()"
   ]
  },
  {
   "cell_type": "markdown",
   "metadata": {},
   "source": [
    "78. __Add__ the new column __MCAP_MUSD__ (Market Cap in Million USD) to the DataFrame listings by dividing Market_Cap by 1 million. __Fill in the gaps__!"
   ]
  },
  {
   "cell_type": "code",
   "execution_count": null,
   "metadata": {},
   "outputs": [],
   "source": [
    "listings[---] = listings.---/1000000"
   ]
  },
  {
   "cell_type": "markdown",
   "metadata": {},
   "source": [
    "__Inspect__! What is the __MCAP_MUSD__ for AAC Holdings?"
   ]
  },
  {
   "cell_type": "code",
   "execution_count": null,
   "metadata": {},
   "outputs": [],
   "source": [
    "# run the cell!\n",
    "listings.head()"
   ]
  },
  {
   "cell_type": "markdown",
   "metadata": {},
   "source": [
    "AAC Holdings has a Market Cap of ... 53.14 MUSD!"
   ]
  },
  {
   "cell_type": "markdown",
   "metadata": {},
   "source": [
    "79. __Add__ the new column __Shares__ with the total amount of __shares outstanding__ for each listing. __Divide__ __Market_Cap__ by the __Last_Price__! <br>\n",
    "Instead of using the arithmetic sign \"/\", use an __appropriate method for division__! "
   ]
  },
  {
   "cell_type": "code",
   "execution_count": null,
   "metadata": {},
   "outputs": [],
   "source": []
  },
  {
   "cell_type": "code",
   "execution_count": null,
   "metadata": {},
   "outputs": [],
   "source": [
    "# run the cell!\n",
    "listings.head()"
   ]
  },
  {
   "cell_type": "code",
   "execution_count": null,
   "metadata": {},
   "outputs": [],
   "source": [
    "# run the cell!\n",
    "listings.info()"
   ]
  },
  {
   "cell_type": "markdown",
   "metadata": {},
   "source": [
    "80. __Sort__ listings by the __Shares__ column from __high to low__. Which listing has the __largest number__ of shares outstanding"
   ]
  },
  {
   "cell_type": "code",
   "execution_count": null,
   "metadata": {
    "scrolled": true
   },
   "outputs": [],
   "source": []
  },
  {
   "cell_type": "markdown",
   "metadata": {},
   "source": [
    "Lloyds Banking Group has over 17 billion shares outstanding!"
   ]
  },
  {
   "cell_type": "markdown",
   "metadata": {},
   "source": [
    "81. Let´s assume we have the listings for NYSE, NASDAQ and AMEX in __three separate datasets__. __Import__ the three datasets into Pandas and __inspect__!"
   ]
  },
  {
   "cell_type": "code",
   "execution_count": null,
   "metadata": {},
   "outputs": [],
   "source": [
    "# run the cell!\n",
    "nyse = pd.read_csv(\"NYSE.csv\")\n",
    "nasdaq = pd.read_csv(\"NASDAQ.csv\") \n",
    "amex = pd.read_csv(\"AMEX.csv\") "
   ]
  },
  {
   "cell_type": "code",
   "execution_count": null,
   "metadata": {},
   "outputs": [],
   "source": [
    "# run the cell!\n",
    "nyse.head()"
   ]
  },
  {
   "cell_type": "code",
   "execution_count": null,
   "metadata": {},
   "outputs": [],
   "source": [
    "# run the cell!\n",
    "nyse.info()"
   ]
  },
  {
   "cell_type": "code",
   "execution_count": null,
   "metadata": {},
   "outputs": [],
   "source": [
    "# run the cell!\n",
    "nasdaq.head()"
   ]
  },
  {
   "cell_type": "code",
   "execution_count": null,
   "metadata": {},
   "outputs": [],
   "source": [
    "# run the cell!\n",
    "nasdaq.info()"
   ]
  },
  {
   "cell_type": "code",
   "execution_count": null,
   "metadata": {},
   "outputs": [],
   "source": [
    "# run the cell!\n",
    "amex.head()"
   ]
  },
  {
   "cell_type": "code",
   "execution_count": null,
   "metadata": {},
   "outputs": [],
   "source": [
    "# run the cell!\n",
    "amex.info()"
   ]
  },
  {
   "cell_type": "markdown",
   "metadata": {},
   "source": [
    "82. __Concatenate__ the three DataFrames into one DataFrame and save the new DataFrame in the variable __all_listings__! <br>\n",
    "Each row/listing should contain information about the respective __Exchange__ (__NYSE__, __NASDAQ__ or __AMEX__)! __Fill in the gaps__!"
   ]
  },
  {
   "cell_type": "code",
   "execution_count": null,
   "metadata": {},
   "outputs": [],
   "source": [
    "all_listings = pd.---([nyse, ---, ---], --- = [---, \"NASDAQ\", \"AMEX\"], names = [\"Exchange\"])"
   ]
  },
  {
   "cell_type": "code",
   "execution_count": null,
   "metadata": {},
   "outputs": [],
   "source": [
    "# run the cell!\n",
    "all_listings.head()"
   ]
  },
  {
   "cell_type": "code",
   "execution_count": null,
   "metadata": {},
   "outputs": [],
   "source": [
    "# run the cell to tidy up!\n",
    "all_listings = all_listings.reset_index().drop(columns = \"level_1\")"
   ]
  },
  {
   "cell_type": "markdown",
   "metadata": {},
   "source": [
    "How many listings does __listings_all__ contain in total?"
   ]
  },
  {
   "cell_type": "code",
   "execution_count": null,
   "metadata": {
    "scrolled": true
   },
   "outputs": [],
   "source": [
    "# run and inspect!\n",
    "all_listings.head()"
   ]
  },
  {
   "cell_type": "code",
   "execution_count": null,
   "metadata": {},
   "outputs": [],
   "source": [
    "# run and inspect!\n",
    "all_listings.info()"
   ]
  },
  {
   "cell_type": "markdown",
   "metadata": {},
   "source": [
    "There are in total ... 6852 listings!"
   ]
  },
  {
   "cell_type": "markdown",
   "metadata": {},
   "source": [
    "# Well Done!"
   ]
  },
  {
   "cell_type": "markdown",
   "metadata": {},
   "source": [
    "---------------------------------"
   ]
  },
  {
   "cell_type": "markdown",
   "metadata": {},
   "source": [
    "# Hints (Spoiler!)"
   ]
  },
  {
   "cell_type": "markdown",
   "metadata": {},
   "source": [
    "76. drop() method, columns parameter"
   ]
  },
  {
   "cell_type": "markdown",
   "metadata": {},
   "source": [
    "77. listings.Exchange != \"AMEX\""
   ]
  },
  {
   "cell_type": "markdown",
   "metadata": {},
   "source": [
    "78. pass \"MCAP_MUSD\" as new column label, Market_Cap column"
   ]
  },
  {
   "cell_type": "markdown",
   "metadata": {},
   "source": [
    "79. use the div() method -> listings[---] = listings.---.div(listings.---)"
   ]
  },
  {
   "cell_type": "markdown",
   "metadata": {},
   "source": [
    "80. sort_values() method"
   ]
  },
  {
   "cell_type": "markdown",
   "metadata": {},
   "source": [
    "81. run the cells and inspects!"
   ]
  },
  {
   "cell_type": "markdown",
   "metadata": {},
   "source": [
    "82. pd.concat() method, keys parameter"
   ]
  },
  {
   "cell_type": "code",
   "execution_count": null,
   "metadata": {},
   "outputs": [],
   "source": []
  }
 ],
 "metadata": {
  "kernelspec": {
   "display_name": "Python 3",
   "language": "python",
   "name": "python3"
  },
  "language_info": {
   "codemirror_mode": {
    "name": "ipython",
    "version": 3
   },
   "file_extension": ".py",
   "mimetype": "text/x-python",
   "name": "python",
   "nbconvert_exporter": "python",
   "pygments_lexer": "ipython3",
   "version": "3.8.5"
  }
 },
 "nbformat": 4,
 "nbformat_minor": 2
}
